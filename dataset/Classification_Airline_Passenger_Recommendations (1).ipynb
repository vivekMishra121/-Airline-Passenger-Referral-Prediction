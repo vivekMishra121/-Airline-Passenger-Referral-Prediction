{
  "nbformat": 4,
  "nbformat_minor": 0,
  "metadata": {
    "colab": {
      "private_outputs": true,
      "provenance": [],
      "collapsed_sections": [
        "O_i_v8NEhb9l",
        "x71ZqKXriCWQ",
        "7hBIi_osiCS2",
        "JlHwYmJAmNHm",
        "PoPl-ycgm1ru",
        "nA9Y7ga8ng1Z",
        "F6T5p64dYrdO",
        "y-Ehk30pYrdP",
        "QHF8YVU7Yuh3",
        "GwzvFGzlYuh3",
        "qYpmQ266Yuh3",
        "t27r6nlMphqO",
        "r2jJGEOYphqO",
        "b0JNsNcRphqO",
        "jj7wYXLtphqO",
        "eZrbJ2SmphqO",
        "578E2V7j08f6",
        "pEMng2IbBLp7",
        "rAdphbQ9Bhjc",
        "TNVZ9zx19K6k",
        "nqoHp30x9hH9",
        "T5CmagL3EC8N",
        "qjKvONjwE8ra",
        "TIqpNgepFxVj",
        "ArJBuiUVfxKd",
        "PiV4Ypx8fxKe",
        "TfvqoZmBfxKf",
        "JWYfwnehpsJ1",
        "HAih1iBOpsJ2",
        "zVGeBEFhpsJ2",
        "bmKjuQ-FpsJ3",
        "7AN1z2sKpx6M",
        "_-qAgymDpx6N",
        "Z-hykwinpx6N",
        "h_CCil-SKHpo",
        "cBFFvTBNJzUa",
        "HvGl1hHyA_VK",
        "KH5McJBi2d8v",
        "iW_Lq9qf2h6X",
        "-Kee-DAl2viO",
        "gIfDvo9L0UH2"
      ]
    },
    "kernelspec": {
      "name": "python3",
      "display_name": "Python 3"
    },
    "language_info": {
      "name": "python"
    }
  },
  "cells": [
    {
      "cell_type": "markdown",
      "source": [
        "# **Project Name**    -\n",
        "\n"
      ],
      "metadata": {
        "id": "vncDsAP0Gaoa"
      }
    },
    {
      "cell_type": "markdown",
      "source": [
        "##### **Project Type**    - Classification\n",
        "##### **Contribution**    - Team\n",
        "##### **Team Member 1 -** Yash Kumar\n",
        "##### **Team Member 2 -** Taniya Yadav\n",
        "##### **Team Member 3 -** Vivek Mishra\n"
      ],
      "metadata": {
        "id": "beRrZCGUAJYm"
      }
    },
    {
      "cell_type": "markdown",
      "source": [
        "# **Project Summary -**"
      ],
      "metadata": {
        "id": "FJNUwmbgGyua"
      }
    },
    {
      "cell_type": "markdown",
      "source": [
        "The airline industry plays a crucial role in modern transportation, with numerous airlines serving various routes worldwide. To make informed decisions in this highly competitive industry, airlines and stakeholders rely on data-driven insights. Machine learning models are indispensable tools in this regard, allowing for the classification of airlines based on different criteria. This document outlines the development and implementation of an airline classification machine learning model.\n",
        "\n",
        "\n",
        "This is where machine learning can play a vital role. By using historical customer data, a machine learning model can identify patterns and correlations that indicate a high likelihood of referral. This information can then be used by airlines to target specific customers with personalized marketing campaigns or incentives, increasing the chances of referral and promoting growth.\n",
        "\n",
        "\n",
        "In conclusion, a machine learning model that predicts the likelihood of referral can provide valuable insights for airlines looking to enhance their customer satisfaction and drive growth through word-of-mouth referrals.\n",
        "\n"
      ],
      "metadata": {
        "id": "F6v_1wHtG2nS"
      }
    },
    {
      "cell_type": "code",
      "source": [
        "from IPython.display import Image\n",
        "Image(url='https://media.giphy.com/media/cMKiyssfSf1laPo1wK/giphy.gif?cid=790b7611ca6xqf9orc8azbl9swmby2h6t0wdek0znt6g8lje&ep=v1_gifs_search&rid=giphy.gif&ct=g', width=1250,height=500)"
      ],
      "metadata": {
        "id": "tjBstoh4O289"
      },
      "execution_count": null,
      "outputs": []
    },
    {
      "cell_type": "markdown",
      "source": [
        "# **GitHub Link -**"
      ],
      "metadata": {
        "id": "w6K7xa23Elo4"
      }
    },
    {
      "cell_type": "markdown",
      "source": [
        "Provide your GitHub Link here."
      ],
      "metadata": {
        "id": "h1o69JH3Eqqn"
      }
    },
    {
      "cell_type": "markdown",
      "source": [
        "# **Problem Statement**\n"
      ],
      "metadata": {
        "id": "yQaldy8SH6Dl"
      }
    },
    {
      "cell_type": "markdown",
      "source": [
        "The goal of this machine learning project is to classify airlines into categories based on certain features or attributes. Classification can serve multiple purposes, such as identifying potential partners for codeshare agreements, assisting in pricing strategies, or aiding in market analysis. In this project, We will be exploring if flyers would recommend the airline to their friends and families, based on their travel experience,reviews and ratings.\n",
        "\n",
        "#### There are few problems that we are looking in this project:\n",
        "\n",
        "* Develop a classification model to categorize airlines based on the likelihood of customers recommending them to friends and family.\n",
        "\n",
        "* Recognize the pivotal role of customer satisfaction and referrals in the growth and success of airlines.\n",
        "\n",
        "* Enable airlines to strategically utilize customer referral information for codeshare agreements, pricing strategies, and market analysis.\n",
        "\n",
        "* Identify customers likely to refer the airline, a task complicated by the diverse factors influencing satisfaction and referrals.\n",
        "\n",
        "* Assess the model's capability to provide actionable insights for airlines to tailor services, improve customer satisfaction, and enhance brand reputation.\n",
        "\n",
        "\n",
        "This problem statement outlines the key objectives, challenges, and considerations for developing a classification model to predict customer referrals in the airline industry."
      ],
      "metadata": {
        "id": "DpeJGUA3kjGy"
      }
    },
    {
      "cell_type": "code",
      "source": [
        "from IPython.display import Image\n",
        "Image(url='https://media.giphy.com/media/3ohc1fLZXOyhE4LOKc/giphy.gif?cid=790b76111m6jkxiorvqwjv0dmol4yn9pg3f8b0g0h0etfwz7&ep=v1_gifs_search&rid=giphy.gif&ct=g', width=1250,height=400)"
      ],
      "metadata": {
        "id": "LmZcJGc4QJhs"
      },
      "execution_count": null,
      "outputs": []
    },
    {
      "cell_type": "markdown",
      "source": [
        "# **General Guidelines** : -  "
      ],
      "metadata": {
        "id": "mDgbUHAGgjLW"
      }
    },
    {
      "cell_type": "markdown",
      "source": [
        "1.   Well-structured, formatted, and commented code is required.\n",
        "2.   Exception Handling, Production Grade Code & Deployment Ready Code will be a plus. Those students will be awarded some additional credits.\n",
        "     \n",
        "     The additional credits will have advantages over other students during Star Student selection.\n",
        "       \n",
        "             [ Note: - Deployment Ready Code is defined as, the whole .ipynb notebook should be executable in one go\n",
        "                       without a single error logged. ]\n",
        "\n",
        "3.   Each and every logic should have proper comments.\n",
        "4. You may add as many number of charts you want. Make Sure for each and every chart the following format should be answered.\n",
        "        \n",
        "\n",
        "```\n",
        "# Chart visualization code\n",
        "```\n",
        "            \n",
        "\n",
        "*   Why did you pick the specific chart?\n",
        "*   What is/are the insight(s) found from the chart?\n",
        "* Will the gained insights help creating a positive business impact?\n",
        "Are there any insights that lead to negative growth? Justify with specific reason.\n",
        "\n",
        "5. You have to create at least 15 logical & meaningful charts having important insights.\n",
        "\n",
        "\n",
        "[ Hints : - Do the Vizualization in  a structured way while following \"UBM\" Rule.\n",
        "\n",
        "U - Univariate Analysis,\n",
        "\n",
        "B - Bivariate Analysis (Numerical - Categorical, Numerical - Numerical, Categorical - Categorical)\n",
        "\n",
        "M - Multivariate Analysis\n",
        " ]\n",
        "\n",
        "\n",
        "\n",
        "\n",
        "\n",
        "6. You may add more ml algorithms for model creation. Make sure for each and every algorithm, the following format should be answered.\n",
        "\n",
        "\n",
        "*   Explain the ML Model used and it's performance using Evaluation metric Score Chart.\n",
        "\n",
        "\n",
        "*   Cross- Validation & Hyperparameter Tuning\n",
        "\n",
        "*   Have you seen any improvement? Note down the improvement with updates Evaluation metric Score Chart.\n",
        "\n",
        "*   Explain each evaluation metric's indication towards business and the business impact pf the ML model used.\n",
        "\n",
        "\n",
        "\n",
        "\n",
        "\n",
        "\n",
        "\n",
        "\n",
        "\n",
        "\n",
        "\n",
        "\n",
        "\n",
        "\n",
        "\n",
        "\n",
        "\n",
        "\n"
      ],
      "metadata": {
        "id": "ZrxVaUj-hHfC"
      }
    },
    {
      "cell_type": "markdown",
      "source": [
        "# ***Let's Begin !***"
      ],
      "metadata": {
        "id": "O_i_v8NEhb9l"
      }
    },
    {
      "cell_type": "markdown",
      "source": [
        "## ***1. Know Your Data***"
      ],
      "metadata": {
        "id": "HhfV-JJviCcP"
      }
    },
    {
      "cell_type": "markdown",
      "source": [
        "### Import Libraries"
      ],
      "metadata": {
        "id": "Y3lxredqlCYt"
      }
    },
    {
      "cell_type": "code",
      "source": [
        "from google.colab import drive\n",
        "drive.mount('/content/drive')"
      ],
      "metadata": {
        "id": "NYQLyFmY122J"
      },
      "execution_count": null,
      "outputs": []
    },
    {
      "cell_type": "code",
      "source": [
        "!pip install category_encoders"
      ],
      "metadata": {
        "id": "bLA_nFP2FALG"
      },
      "execution_count": null,
      "outputs": []
    },
    {
      "cell_type": "code",
      "source": [
        "# Import Libraries\n",
        "\n",
        "import pandas as pd\n",
        "import numpy as np\n",
        "import seaborn as sns\n",
        "import datetime as dt\n",
        "import missingno as msno\n",
        "import matplotlib.pyplot as plt\n",
        "from scipy import stats\n",
        "from scipy.stats import chi2_contingency\n",
        "from scipy.stats import f_oneway\n",
        "from sklearn.preprocessing import LabelEncoder\n",
        "import category_encoders as ce\n",
        "from sklearn.preprocessing import StandardScaler\n",
        "from sklearn.decomposition import PCA\n",
        "from sklearn.tree import DecisionTreeClassifier\n",
        "from sklearn.model_selection import train_test_split\n",
        "from sklearn.metrics import precision_score,accuracy_score,precision_score,recall_score,f1_score,confusion_matrix\n",
        "from sklearn.model_selection import GridSearchCV, cross_val_score\n",
        "from sklearn.neighbors import KNeighborsClassifier"
      ],
      "metadata": {
        "id": "M8Vqi-pPk-HR"
      },
      "execution_count": null,
      "outputs": []
    },
    {
      "cell_type": "markdown",
      "source": [
        "### Dataset Loading"
      ],
      "metadata": {
        "id": "3RnN4peoiCZX"
      }
    },
    {
      "cell_type": "code",
      "source": [
        "df1 =pd.read_excel('/content/drive/MyDrive/module_6_end_course/Dataset/data_airline_reviews.xlsx')"
      ],
      "metadata": {
        "id": "4CkvbW_SlZ_R"
      },
      "execution_count": null,
      "outputs": []
    },
    {
      "cell_type": "markdown",
      "source": [
        "### Dataset First View"
      ],
      "metadata": {
        "id": "x71ZqKXriCWQ"
      }
    },
    {
      "cell_type": "code",
      "source": [
        "# Dataset First Look\n",
        "df1.head()"
      ],
      "metadata": {
        "id": "LWNFOSvLl09H"
      },
      "execution_count": null,
      "outputs": []
    },
    {
      "cell_type": "markdown",
      "source": [
        "### Dataset Rows & Columns count"
      ],
      "metadata": {
        "id": "7hBIi_osiCS2"
      }
    },
    {
      "cell_type": "code",
      "source": [
        "# Dataset Rows & Columns count\n",
        "df1.shape"
      ],
      "metadata": {
        "id": "Kllu7SJgmLij"
      },
      "execution_count": null,
      "outputs": []
    },
    {
      "cell_type": "markdown",
      "source": [
        "### Dataset Information"
      ],
      "metadata": {
        "id": "JlHwYmJAmNHm"
      }
    },
    {
      "cell_type": "code",
      "source": [
        "# Dataset Info\n",
        "df1.info()"
      ],
      "metadata": {
        "id": "e9hRXRi6meOf"
      },
      "execution_count": null,
      "outputs": []
    },
    {
      "cell_type": "markdown",
      "source": [
        "#### Duplicate Values"
      ],
      "metadata": {
        "id": "35m5QtbWiB9F"
      }
    },
    {
      "cell_type": "code",
      "source": [
        "# Dataset Duplicate Value Count\n",
        "df1.duplicated().sum()"
      ],
      "metadata": {
        "id": "1sLdpKYkmox0"
      },
      "execution_count": null,
      "outputs": []
    },
    {
      "cell_type": "markdown",
      "source": [
        "#### Missing Values/Null Values"
      ],
      "metadata": {
        "id": "PoPl-ycgm1ru"
      }
    },
    {
      "cell_type": "code",
      "source": [
        "# Missing Values/Null Values Count\n",
        "df1.isnull().sum()"
      ],
      "metadata": {
        "id": "GgHWkxvamxVg"
      },
      "execution_count": null,
      "outputs": []
    },
    {
      "cell_type": "code",
      "source": [
        "plt.figure(figsize=(15,8))\n",
        "sns.heatmap(df1.isnull(), cbar=False, cmap='YlGnBu')\n",
        "plt.title('Missing Values Heatmap')\n",
        "plt.xticks(rotation=30)\n",
        "plt.show()"
      ],
      "metadata": {
        "id": "nqlGE11hD8wl"
      },
      "execution_count": null,
      "outputs": []
    },
    {
      "cell_type": "markdown",
      "source": [
        "### What did you know about your dataset?"
      ],
      "metadata": {
        "id": "H0kj-8xxnORC"
      }
    },
    {
      "cell_type": "markdown",
      "source": [
        "Data includes airline reviews from 2006 to 2019 for popular airlines around the world with user feedback ratings and reviews based on their travel experience.\n",
        "\n",
        "It has 131895 rows 17 different columns.\n",
        "\n",
        "Data is scraped in Spring 2019. Feature descriptions briefly as follows:\n",
        "\n",
        "1. **airline** - Airline name\n",
        "2. **overall** - Overall score\n",
        "3. **Author** - Author information\n",
        "4. **review_date** - Customer Review posted date\n",
        "5. **Customer_review** - Actual customer review(Textual)\n",
        "6. **aircraft** - Type of aircraft\n",
        "7. **traveller_type** - Type of traveller\n",
        "8. **cabin**- Cabin type chosen by traveller (Economy, Business,Premium economy,First class)\n",
        "9. **route** - Route flown by flyer\n",
        "10. **date_flown** - Date of travel\n",
        "11. **seat_comfort** - Rating provided towards seat comfort\n",
        "12. **cabin_service** - Rating provided towards cabin service.\n",
        "13. **food_bev** - Rating provided towards food and beverages supplied during travel.\n",
        "14. **entertainment** - Rating provided towards on board flight entertainment\n",
        "15. **ground_service** - Rating provided towards ground service staff.\n",
        "16. **value_for_money** - Rating provided towards value for money.\n",
        "17. **recommended** - Airline service Recommended by flyer (Yes/No)"
      ],
      "metadata": {
        "id": "gfoNAAC-nUe_"
      }
    },
    {
      "cell_type": "markdown",
      "source": [
        "## ***2. Understanding Your Variables***"
      ],
      "metadata": {
        "id": "nA9Y7ga8ng1Z"
      }
    },
    {
      "cell_type": "code",
      "source": [
        "# Dataset Columns\n",
        "df1.columns"
      ],
      "metadata": {
        "id": "j7xfkqrt5Ag5"
      },
      "execution_count": null,
      "outputs": []
    },
    {
      "cell_type": "code",
      "source": [
        "# Dataset Describe\n",
        "df1.describe().T"
      ],
      "metadata": {
        "id": "DnOaZdaE5Q5t"
      },
      "execution_count": null,
      "outputs": []
    },
    {
      "cell_type": "markdown",
      "source": [
        "### Variables Description"
      ],
      "metadata": {
        "id": "PBTbrJXOngz2"
      }
    },
    {
      "cell_type": "markdown",
      "source": [
        "It has lot of blank rows with many null values and the columns description are as follows:\n",
        "\n",
        "1. **airline** - Name of the airline.  (**object type**)\n",
        "2. **overall** - Overall rating defined by customer. (**float type**)\n",
        "3. **Author** - Customer information. (**object type**)\n",
        "4. **review_date** - date on which customer posted a review. (**object type**)\n",
        "5. **Customer_review** - Description of customer review. (**object type**)\n",
        "6. **aircraft** - Type of aircraft. (**object type**)\n",
        "7. **traveller_type** - Type of traveller. (**object type**)\n",
        "8. **cabin**- Cabin type chosen by traveller. (Economy, Business,Premium economy,First class) (**object type**)\n",
        "9. **route** - Route flown by flyer. (**object type**)\n",
        "10. **date_flown** - Date of travel. (**object type**)\n",
        "11. **seat_comfort** - Rating provided towards seat comfort. (**float type**)\n",
        "12. **cabin_service** - Rating provided towards cabin service. (**float type**)\n",
        "13. **food_bev** - Rating provided towards food and beverages supplied during travel. (**float type**)\n",
        "14. **entertainment** - Rating provided towards on board flight entertainment. (**float type**)\n",
        "15. **ground_service** - Rating provided towards ground service staff. (**float type**)\n",
        "16. **value_for_money** - Rating provided towards value for money. (**float type**)\n",
        "17. **recommended** - Airline service Recommended by flyer (Yes/No). (**object type**)"
      ],
      "metadata": {
        "id": "aJV4KIxSnxay"
      }
    },
    {
      "cell_type": "markdown",
      "source": [
        "### Check Unique Values for each variable."
      ],
      "metadata": {
        "id": "u3PMJOP6ngxN"
      }
    },
    {
      "cell_type": "code",
      "source": [
        "# Check Unique Values for each variable.\n",
        "dict_uniq_value={}\n",
        "dict_uniq_cnt={}\n",
        "for i in df1.columns:\n",
        "  dict_uniq_value[i]=df1[i].unique()\n",
        "  dict_uniq_cnt[i]=len(df1[i].unique())"
      ],
      "metadata": {
        "id": "zms12Yq5n-jE"
      },
      "execution_count": null,
      "outputs": []
    },
    {
      "cell_type": "code",
      "source": [
        "print(dict_uniq_value['airline'])\n",
        "print(dict_uniq_cnt['airline'])"
      ],
      "metadata": {
        "id": "_CrGEZNwGan8"
      },
      "execution_count": null,
      "outputs": []
    },
    {
      "cell_type": "code",
      "source": [
        "for i in df1.columns.tolist():\n",
        "  print(\"No. of unique values in \",i,\"is\",df1[i].nunique())"
      ],
      "metadata": {
        "id": "azg0Ftb3X1Jq"
      },
      "execution_count": null,
      "outputs": []
    },
    {
      "cell_type": "markdown",
      "source": [
        "## 3. ***Data Wrangling***"
      ],
      "metadata": {
        "id": "dauF4eBmngu3"
      }
    },
    {
      "cell_type": "markdown",
      "source": [
        "### Data Wrangling Code"
      ],
      "metadata": {
        "id": "bKJF3rekwFvQ"
      }
    },
    {
      "cell_type": "code",
      "source": [
        "# Make a copy of your dataset for in future revert back\n",
        "df=df1.copy()"
      ],
      "metadata": {
        "id": "wk-9a2fpoLcV"
      },
      "execution_count": null,
      "outputs": []
    },
    {
      "cell_type": "code",
      "source": [
        "#Drop all duplicated rows as there are many blank and duplicated rows\n",
        "df.drop_duplicates(inplace=True)"
      ],
      "metadata": {
        "id": "2GtRDZmfH3aR"
      },
      "execution_count": null,
      "outputs": []
    },
    {
      "cell_type": "code",
      "source": [
        "#Drop the index column\n",
        "df.reset_index(drop=True, inplace=True)"
      ],
      "metadata": {
        "id": "gHbm7kkkVCsD"
      },
      "execution_count": null,
      "outputs": []
    },
    {
      "cell_type": "code",
      "source": [
        "#Check for shape of your dataset\n",
        "df.shape"
      ],
      "metadata": {
        "id": "ShhqwQynIoBt"
      },
      "execution_count": null,
      "outputs": []
    },
    {
      "cell_type": "code",
      "source": [
        "#check for null values and sort in ascending order\n",
        "df.isnull().sum().sort_values(ascending=False)"
      ],
      "metadata": {
        "id": "R4d0qzifJRqf"
      },
      "execution_count": null,
      "outputs": []
    },
    {
      "cell_type": "code",
      "source": [
        "#Drop unwanted columns that is not used for our analysis\n",
        "df.drop(columns=(['author','customer_review','route']),axis=1,inplace=True)"
      ],
      "metadata": {
        "id": "CnFkeZMvI2in"
      },
      "execution_count": null,
      "outputs": []
    },
    {
      "cell_type": "code",
      "source": [
        "#In this we have too many null values so we dropped it and it can't be filled also\n",
        "df.drop(columns=['aircraft'],axis=1,inplace=True)"
      ],
      "metadata": {
        "id": "FA3UehbCKqqf"
      },
      "execution_count": null,
      "outputs": []
    },
    {
      "cell_type": "code",
      "source": [
        "# Again check for null values and sort in ascending order\n",
        "df.isnull().sum().sort_values(ascending=False)"
      ],
      "metadata": {
        "id": "DZagJcW4MAzS"
      },
      "execution_count": null,
      "outputs": []
    },
    {
      "cell_type": "code",
      "source": [
        "#Drop null values for these 2 columns\n",
        "df.dropna(subset=(['ground_service','entertainment']),inplace=True)"
      ],
      "metadata": {
        "id": "RpYgNIFQMEiw"
      },
      "execution_count": null,
      "outputs": []
    },
    {
      "cell_type": "code",
      "source": [
        "# Again check for null values and sort in ascending order\n",
        "df.isnull().sum().sort_values(ascending=False)"
      ],
      "metadata": {
        "id": "To_ZUOLCMkwP"
      },
      "execution_count": null,
      "outputs": []
    },
    {
      "cell_type": "code",
      "source": [
        "#Fill the null vales with mean fo their rating\n",
        "df['food_bev'].fillna(df['food_bev'].mean(),inplace=True)"
      ],
      "metadata": {
        "id": "0rS7XPblM2Mb"
      },
      "execution_count": null,
      "outputs": []
    },
    {
      "cell_type": "code",
      "source": [
        "#Drop all null values in our whole dataset\n",
        "df.dropna(inplace=True)"
      ],
      "metadata": {
        "id": "vKxLP2ErOCid"
      },
      "execution_count": null,
      "outputs": []
    },
    {
      "cell_type": "code",
      "source": [
        "#Final check for null values\n",
        "df.isnull().sum()"
      ],
      "metadata": {
        "id": "-Dom0nCbOQaL"
      },
      "execution_count": null,
      "outputs": []
    },
    {
      "cell_type": "code",
      "source": [
        "# Check for shape after cleaning or dataset\n",
        "df.shape"
      ],
      "metadata": {
        "id": "yY4FArnsOHWx"
      },
      "execution_count": null,
      "outputs": []
    },
    {
      "cell_type": "code",
      "source": [
        "#First row is all null values so after we dropped it our index starts from 1 so we are resetting or index\n",
        "df.reset_index(drop=True, inplace=True)"
      ],
      "metadata": {
        "id": "UXKbk1HlWOOk"
      },
      "execution_count": null,
      "outputs": []
    },
    {
      "cell_type": "code",
      "source": [
        "#Check first 5 rows of dataset after cleaning\n",
        "df.head()"
      ],
      "metadata": {
        "id": "eG3ssZQWOKeN"
      },
      "execution_count": null,
      "outputs": []
    },
    {
      "cell_type": "markdown",
      "source": [
        "### Outliars Detection and Removal"
      ],
      "metadata": {
        "id": "m3B98oGNlRSm"
      }
    },
    {
      "cell_type": "code",
      "source": [
        "#Plot the boxplot for all columns to check for outliers\n",
        "plt.figure(figsize=(12,8))\n",
        "sns.boxplot(df)"
      ],
      "metadata": {
        "id": "8wtdM4cePNXF"
      },
      "execution_count": null,
      "outputs": []
    },
    {
      "cell_type": "markdown",
      "source": [
        "## Data manipulation"
      ],
      "metadata": {
        "id": "RxmyImWRP1xr"
      }
    },
    {
      "cell_type": "code",
      "source": [
        "#Check for Datatypes of columns in our dataset\n",
        "df.info()"
      ],
      "metadata": {
        "id": "sm54KC9glCn6"
      },
      "execution_count": null,
      "outputs": []
    },
    {
      "cell_type": "markdown",
      "source": [
        "1. we can see there are many variables having not appropriate datatypes so we changed them to their suitable datatypes below."
      ],
      "metadata": {
        "id": "yHtQC1w8mGOS"
      }
    },
    {
      "cell_type": "code",
      "source": [
        "d_type={'overall':'int8','review_date':'datetime64[ns]','seat_comfort':'int8','cabin_service':'int8','food_bev':'int8','entertainment':'int8',\n",
        "        'ground_service':'int8',\n",
        "        'value_for_money':'int8'}\n",
        "for i,j in d_type.items():\n",
        "  df[i]=df[i].astype(j)"
      ],
      "metadata": {
        "id": "ODoEN3NLP5cC"
      },
      "execution_count": null,
      "outputs": []
    },
    {
      "cell_type": "code",
      "source": [
        "df.info()"
      ],
      "metadata": {
        "id": "oirYejheRXrI"
      },
      "execution_count": null,
      "outputs": []
    },
    {
      "cell_type": "markdown",
      "source": [
        "Here we can see all columns are in their suitable datatype"
      ],
      "metadata": {
        "id": "1Ldpso2jSTCC"
      }
    },
    {
      "cell_type": "markdown",
      "source": [
        "2. Here converted `date_flown` column in a proper date format by removing timestamp and changed to Datetime format."
      ],
      "metadata": {
        "id": "VNgOGkoZQXdS"
      }
    },
    {
      "cell_type": "code",
      "source": [
        "df['date_flown']=pd.to_datetime(df['date_flown'], errors='coerce')"
      ],
      "metadata": {
        "id": "CJ5cLNwVSg_m"
      },
      "execution_count": null,
      "outputs": []
    },
    {
      "cell_type": "markdown",
      "source": [
        "3. Renamed `overall` to `overall_rating` and `date_flown` to `departure_date` for better understanding."
      ],
      "metadata": {
        "id": "FZMApmGqRTju"
      }
    },
    {
      "cell_type": "code",
      "source": [
        "rename_col={'overall':'overall_rating','date_flown':'departure_date'}\n",
        "df.rename(columns=rename_col,inplace=True)"
      ],
      "metadata": {
        "id": "9zD1MzjqWXt_"
      },
      "execution_count": null,
      "outputs": []
    },
    {
      "cell_type": "code",
      "source": [
        "df.head()"
      ],
      "metadata": {
        "id": "vU6cUvJ1XGkl"
      },
      "execution_count": null,
      "outputs": []
    },
    {
      "cell_type": "markdown",
      "source": [
        "### What all manipulations have you done and insights you found?"
      ],
      "metadata": {
        "id": "MSa1f5Uengrz"
      }
    },
    {
      "cell_type": "markdown",
      "source": [
        "1. Converted Date columns to datetime format as they were in object datatype and converted various rating columns from float to int as all ratings are only in integers.\n",
        "2. date_flown column was not in proper date format it also contained Timestamp so we changed to a proper date format by removing timestamp and converted it into datetime datatype.\n",
        "3. Renamed overall to overall_rating and date_flown to departure_date for better understanding."
      ],
      "metadata": {
        "id": "LbyXE7I1olp8"
      }
    },
    {
      "cell_type": "markdown",
      "source": [
        "# ***4. Data Vizualization, Storytelling & Experimenting with charts : Understand the relationships between variables***"
      ],
      "metadata": {
        "id": "GF8Ens_Soomf"
      }
    },
    {
      "cell_type": "markdown",
      "source": [
        "#### Chart - 1"
      ],
      "metadata": {
        "id": "0wOQAZs5pc--"
      }
    },
    {
      "cell_type": "code",
      "source": [
        "# Chart - 1 visualization code\n",
        "plt.figure(figsize = (20,5))\n",
        "air_cnt=df['airline'].value_counts().sort_values(ascending=False).head(10).reset_index()\n",
        "palette = sns.color_palette(\"Set1\", 10)\n",
        "ax = sns.barplot(y=air_cnt['airline'],x=air_cnt['index'],palette =palette )\n",
        "plt.xlabel('Airlines',fontsize=12)\n",
        "plt.ylabel('Count of reviews',fontsize=12)\n",
        "plt.title('Top 10 airlines based on highest trips',fontsize=18)\n",
        "for num in ax.containers:\n",
        "  ax.bar_label(num)\n",
        "plt.show()"
      ],
      "metadata": {
        "id": "7v_ESjsspbW7"
      },
      "execution_count": null,
      "outputs": []
    },
    {
      "cell_type": "markdown",
      "source": [
        "##### 1. Why did you pick the specific chart?"
      ],
      "metadata": {
        "id": "K5QZ13OEpz2H"
      }
    },
    {
      "cell_type": "markdown",
      "source": [
        "Bar graph is typically used when we have to depict categorical values with numerical values and here it suits well as we are to show airlines with its count of reviews"
      ],
      "metadata": {
        "id": "XESiWehPqBRc"
      }
    },
    {
      "cell_type": "markdown",
      "source": [
        "##### 2. What is/are the insight(s) found from the chart?"
      ],
      "metadata": {
        "id": "lQ7QKXXCp7Bj"
      }
    },
    {
      "cell_type": "markdown",
      "source": [
        "We have shown top 10 airlines in terms of their reviews count and can understand that American Airlines has the most number of review followed by United Airlines and Bristish Airways."
      ],
      "metadata": {
        "id": "C_j1G7yiqdRP"
      }
    },
    {
      "cell_type": "markdown",
      "source": [
        "##### 3. Will the gained insights help creating a positive business impact?\n",
        "Are there any insights that lead to negative growth? Justify with specific reason."
      ],
      "metadata": {
        "id": "448CDAPjqfQr"
      }
    },
    {
      "cell_type": "markdown",
      "source": [
        "It's essential to consider the nature of the reviews, the sentiments expressed, Understanding what customers appreciate about an airline, whether it's excellent service, punctuality, or other positive aspects, can help the company leverage and enhance these strengths and Identifying common issues or complaints allows the airline to address and rectify problems, leading to an improved customer experience."
      ],
      "metadata": {
        "id": "3cspy4FjqxJW"
      }
    },
    {
      "cell_type": "markdown",
      "source": [
        "#### Chart - 2"
      ],
      "metadata": {
        "id": "KSlN3yHqYklG"
      }
    },
    {
      "cell_type": "code",
      "source": [
        "cab_cnt=df['cabin'].value_counts().reset_index()\n"
      ],
      "metadata": {
        "id": "TEoXsvm9PgTZ"
      },
      "execution_count": null,
      "outputs": []
    },
    {
      "cell_type": "code",
      "source": [
        "plt.figure(figsize=(12,6))\n",
        "(plt.pie(cab_cnt['cabin'], labels=cab_cnt['index'], autopct='%1.1f%%', explode = [0, 0, 0.12, 0.2],startangle=60, textprops={'fontsize': 10},shadow=True,wedgeprops={'edgecolor': 'white'}))\n",
        "plt.title('Distribution of Diffrent Cabin classes preffered by Passengers', y=1.08,fontsize = 12)\n",
        "plt.show()"
      ],
      "metadata": {
        "id": "eu02FEEHMZQg"
      },
      "execution_count": null,
      "outputs": []
    },
    {
      "cell_type": "markdown",
      "source": [
        "##### 1. Why did you pick the specific chart?"
      ],
      "metadata": {
        "id": "t6dVpIINYklI"
      }
    },
    {
      "cell_type": "markdown",
      "source": [
        "A pie chart is a circular statistical graphic that is divided into slices to illustrate numerical proportions. It's primarily used to show the relationship of parts to a whole."
      ],
      "metadata": {
        "id": "5aaW0BYyYklI"
      }
    },
    {
      "cell_type": "markdown",
      "source": [
        "##### 2. What is/are the insight(s) found from the chart?"
      ],
      "metadata": {
        "id": "ijmpgYnKYklI"
      }
    },
    {
      "cell_type": "markdown",
      "source": [
        "From the above chart we can see that econony class constitues the largest part followed by business class and the other two class constitues very less portion of the chart which tells that mostly people were travelling in economy class ."
      ],
      "metadata": {
        "id": "PSx9atu2YklI"
      }
    },
    {
      "cell_type": "markdown",
      "source": [
        "##### 3. Will the gained insights help creating a positive business impact?\n",
        "Are there any insights that lead to negative growth? Justify with specific reason."
      ],
      "metadata": {
        "id": "-JiQyfWJYklI"
      }
    },
    {
      "cell_type": "markdown",
      "source": [
        "Understanding the popularity of economy class can guide the airline in customizing services to meet the needs and expectations of this larger customer segment,Given that economy class is the most popular, marketing efforts can be targeted towards this segment. Promotions, loyalty programs, and advertising can be tailored to attract and retain economy class travelers."
      ],
      "metadata": {
        "id": "BcBbebzrYklV"
      }
    },
    {
      "cell_type": "markdown",
      "source": [
        "#### Chart - 3: `Bar Chart` for Comparing Most popular cabin type"
      ],
      "metadata": {
        "id": "EM7whBJCYoAo"
      }
    },
    {
      "cell_type": "code",
      "source": [
        "# Chart - 3 visualization code\n",
        "most_trav = df[\"traveller_type\"].value_counts().reset_index()\n",
        "ax = sns.barplot(x=most_trav['index'],y = most_trav['traveller_type'] ,palette = 'Dark2')\n",
        "plt.ylabel('Count')\n",
        "plt.xlabel('Traveller type')\n",
        "plt.title('Most Popular Travel type')\n",
        "for num in ax.containers:\n",
        "  ax.bar_label(num)\n",
        "plt.show()"
      ],
      "metadata": {
        "id": "t6GMdE67YoAp"
      },
      "execution_count": null,
      "outputs": []
    },
    {
      "cell_type": "markdown",
      "source": [
        "##### 1. Why did you pick the specific chart?"
      ],
      "metadata": {
        "id": "fge-S5ZAYoAp"
      }
    },
    {
      "cell_type": "markdown",
      "source": [
        "Bar graph is typically used when we have to depict categorical values with numerical values and here it suits well as we are to show air"
      ],
      "metadata": {
        "id": "5dBItgRVYoAp"
      }
    },
    {
      "cell_type": "markdown",
      "source": [
        "##### 2. What is/are the insight(s) found from the chart?"
      ],
      "metadata": {
        "id": "85gYPyotYoAp"
      }
    },
    {
      "cell_type": "markdown",
      "source": [
        "`Solo Leisure` is the most preffered travel_type by passengers while `Bussiness` is the lowest travel_type."
      ],
      "metadata": {
        "id": "4jstXR6OYoAp"
      }
    },
    {
      "cell_type": "markdown",
      "source": [
        "##### 3. Will the gained insights help creating a positive business impact?\n",
        "Are there any insights that lead to negative growth? Justify with specific reason."
      ],
      "metadata": {
        "id": "RoGjAbkUYoAp"
      }
    },
    {
      "cell_type": "markdown",
      "source": [
        "Understanding that solo leisure travel is more popular allows the airline to tailor marketing efforts specifically toward this segment. Promotions, advertising, and loyalty programs can be designed to attract and retain solo leisure travelers, potentially increasing customer acquisition and retention."
      ],
      "metadata": {
        "id": "zfJ8IqMcYoAp"
      }
    },
    {
      "cell_type": "markdown",
      "source": [
        "#### Chart - 4: `Side by side Bar Chart` for comparing Cabin classes based on Food_bev and entertainment ratings"
      ],
      "metadata": {
        "id": "4Of9eVA-YrdM"
      }
    },
    {
      "cell_type": "markdown",
      "source": [
        "*  average ratings of Food_bev and entertainment given by passenger in various cabin"
      ],
      "metadata": {
        "id": "F1qgZDW_CzA3"
      }
    },
    {
      "cell_type": "code",
      "source": [
        "#performing the grouphby method\n",
        "eda_4=df.groupby('cabin')[['food_bev','entertainment']].mean().reset_index()\n",
        "eda_4"
      ],
      "metadata": {
        "id": "TaGeR11QCTaB"
      },
      "execution_count": null,
      "outputs": []
    },
    {
      "cell_type": "code",
      "source": [
        "plt.rcParams['figure.figsize']=(10,5)\n",
        "eda_4.plot(x=\"cabin\", y=[\"food_bev\", \"entertainment\"], kind=\"bar\")\n",
        "plt.xticks(rotation=0)\n",
        "plt.show()"
      ],
      "metadata": {
        "id": "t2kSLdH9CWdK"
      },
      "execution_count": null,
      "outputs": []
    },
    {
      "cell_type": "markdown",
      "source": [
        "##### 1. Why did you pick the specific chart?"
      ],
      "metadata": {
        "id": "bp7YRcYQtsm6"
      }
    },
    {
      "cell_type": "markdown",
      "source": [
        "This chart is best suited for showing side by side comparision of various cabin class wrt food_beverages and entertainment."
      ],
      "metadata": {
        "id": "EW-Ww--Rtue_"
      }
    },
    {
      "cell_type": "markdown",
      "source": [
        "##### 2. What is/are the insight(s) found from the chart?"
      ],
      "metadata": {
        "id": "TRUq5tMttvk2"
      }
    },
    {
      "cell_type": "markdown",
      "source": [
        "we can conclude that there is no significant change in ratings of `food_bev` and `entertainment` in Economy and first_class but in premium economy class there is more rating for entertainment as compared to food_bev and vice-versa for Bussiness_class."
      ],
      "metadata": {
        "id": "T29A4w89t55v"
      }
    },
    {
      "cell_type": "markdown",
      "source": [
        "##### 3. Will the gained insights help creating a positive business impact?\n",
        "Are there any insights that lead to negative growth? Justify with specific reason."
      ],
      "metadata": {
        "id": "jSYs3z7pt-rp"
      }
    },
    {
      "cell_type": "markdown",
      "source": [
        "Knowing that there are different preferences for entertainment and food_bev in Premium Economy and Business Class allows the airline to focus on enhancing services in each class selectively. This could involve improving menu options, upgrading entertainment systems, or introducing new features to align with passenger expectations"
      ],
      "metadata": {
        "id": "DxQuc7mdA37l"
      }
    },
    {
      "cell_type": "markdown",
      "source": [
        "### Chart 5: Distribution of diffrent types of ratings using `Voilin Plot`"
      ],
      "metadata": {
        "id": "-O3-YVHmGVwC"
      }
    },
    {
      "cell_type": "code",
      "source": [
        "columns = ['seat_comfort', 'cabin_service', 'food_bev', 'entertainment', 'ground_service', 'value_for_money','overall_rating']\n",
        "\n",
        "# Melt the DataFrame to long format\n",
        "df_melted = df.melt(value_vars=columns, var_name='Rating Category', value_name='Rating')\n",
        "\n",
        "# Create a violin plot\n",
        "plt.figure(figsize=(12, 6))\n",
        "sns.violinplot(x='Rating Category', y='Rating', data=df_melted,palette='Set1')\n",
        "plt.title('Violin Plot of various type of Ratings')\n",
        "plt.xticks(rotation=45)\n",
        "plt.show()\n"
      ],
      "metadata": {
        "id": "9oq3uYFaFenm"
      },
      "execution_count": null,
      "outputs": []
    },
    {
      "cell_type": "markdown",
      "source": [
        "##### 1. Why did you pick the specific chart?"
      ],
      "metadata": {
        "id": "V4T3fgp4ML5k"
      }
    },
    {
      "cell_type": "markdown",
      "source": [
        "We chose `Voilin chart` because they are particularly useful for comparing the distribution of data between different groups or categories.This allows us to see not only the average rating for each type but also how ratings are spread out."
      ],
      "metadata": {
        "id": "_Z5NA4K5MNux"
      }
    },
    {
      "cell_type": "markdown",
      "source": [
        "##### 2. What is/are the insight(s) found from the chart?"
      ],
      "metadata": {
        "id": "SXrYU7S5MOeJ"
      }
    },
    {
      "cell_type": "markdown",
      "source": [
        "we can see that our mostly rating variables spreds between 1-6 and only `over_all rating` is ranging between 1-10 and mostly ratings are either lower range side or upper range side."
      ],
      "metadata": {
        "id": "nFjx19dlMOrK"
      }
    },
    {
      "cell_type": "markdown",
      "source": [
        "##### 3. Will the gained insights help creating a positive business impact?\n",
        "Are there any insights that lead to negative growth? Justify with specific reason."
      ],
      "metadata": {
        "id": "7qhfU0RKMbsN"
      }
    },
    {
      "cell_type": "markdown",
      "source": [
        "\n",
        "Airlines can use this insight to adjust pricing strategies.If customers rate the value for money lower, airlines can consider offering more competitive pricing or value-added services.hence improving specific aspects of service that are consistently rated lower can enhance the airline's brand reputation and differentiate it from competitors."
      ],
      "metadata": {
        "id": "oTai4HeOMlcV"
      }
    },
    {
      "cell_type": "markdown",
      "source": [
        "### Chart 6: Top Rated Airlines"
      ],
      "metadata": {
        "id": "-u4nl3nfChpH"
      }
    },
    {
      "cell_type": "code",
      "source": [
        "# Chart - 4 visualization code\n",
        "plt.figure(figsize= (8,5))\n",
        "overall = df.groupby(df['airline'])['overall_rating'].mean().sort_values(ascending = False).head(10).reset_index()\n",
        "ax = sns.barplot(y=overall['airline'],x = overall['overall_rating'],palette =\"tab10\" )\n",
        "plt.xlabel('Average overall rating')\n",
        "plt.ylabel('Airline')\n",
        "plt.title('Top rated airlines')\n",
        "\n",
        "plt.show()"
      ],
      "metadata": {
        "id": "irlUoxc8YrdO"
      },
      "execution_count": null,
      "outputs": []
    },
    {
      "cell_type": "markdown",
      "source": [
        "##### 1. Why did you pick the specific chart?"
      ],
      "metadata": {
        "id": "iky9q4vBYrdO"
      }
    },
    {
      "cell_type": "markdown",
      "source": [
        "we pick horizontal column chart for comparison of various airlines wrt to Average overall rating."
      ],
      "metadata": {
        "id": "aJRCwT6DYrdO"
      }
    },
    {
      "cell_type": "markdown",
      "source": [
        "##### 2. What is/are the insight(s) found from the chart?"
      ],
      "metadata": {
        "id": "F6T5p64dYrdO"
      }
    },
    {
      "cell_type": "markdown",
      "source": [
        "from this chart we can see `Aegean airlines` is highest overall rating followed by EVA airlines and ANA all Nippon Airways while `Cathay Pecific airways` has the lowest rating ."
      ],
      "metadata": {
        "id": "Xx8WAJvtYrdO"
      }
    },
    {
      "cell_type": "markdown",
      "source": [
        "##### 3. Will the gained insights help creating a positive business impact?\n",
        "Are there any insights that lead to negative growth? Justify with specific reason."
      ],
      "metadata": {
        "id": "y-Ehk30pYrdP"
      }
    },
    {
      "cell_type": "markdown",
      "source": [
        " Aegean Airlines, EVA Airlines, and ANA All Nippon Airways can continue to focus on providing excellent service to maintain their high ratings. This can include improving in-flight amenities, on-time performance, and customer service.\n",
        " Cathay Pacific Airways, being rated lower, can invest in training and development programs for its staff to enhance customer service and improve overall customer experience."
      ],
      "metadata": {
        "id": "jLNxxz7MYrdP"
      }
    },
    {
      "cell_type": "markdown",
      "source": [
        "#### Chart - 7: Top 10 Airlines wrt to value for money"
      ],
      "metadata": {
        "id": "bamQiAODYuh1"
      }
    },
    {
      "cell_type": "code",
      "source": [
        "# Chart - 5 visualization code\n",
        "plt.figure(figsize= (20,5))\n",
        "val = df.groupby(df['airline'])['value_for_money'].mean().sort_values(ascending = False).head(10).reset_index()\n",
        "ax = sns.barplot(x=val['airline'],y = val['value_for_money'] ,palette = 'viridis')\n",
        "\n",
        "plt.title('Top 10 Airlines wrt to value for money',fontsize = 18)\n",
        "plt.show()"
      ],
      "metadata": {
        "id": "TIJwrbroYuh3"
      },
      "execution_count": null,
      "outputs": []
    },
    {
      "cell_type": "markdown",
      "source": [
        "##### 1. Why did you pick the specific chart?"
      ],
      "metadata": {
        "id": "QHF8YVU7Yuh3"
      }
    },
    {
      "cell_type": "markdown",
      "source": [
        "we pick Bar chart for comparison of various airlines wrt to Average rating of value for money."
      ],
      "metadata": {
        "id": "dcxuIMRPYuh3"
      }
    },
    {
      "cell_type": "markdown",
      "source": [
        "##### 2. What is/are the insight(s) found from the chart?"
      ],
      "metadata": {
        "id": "GwzvFGzlYuh3"
      }
    },
    {
      "cell_type": "markdown",
      "source": [
        "we can see that `EVA Air ` is the highest rated followed by China Southern Airlines and Aegean Airlines  for value for money ."
      ],
      "metadata": {
        "id": "uyqkiB8YYuh3"
      }
    },
    {
      "cell_type": "markdown",
      "source": [
        "##### 3. Will the gained insights help creating a positive business impact?\n",
        "Are there any insights that lead to negative growth? Justify with specific reason."
      ],
      "metadata": {
        "id": "qYpmQ266Yuh3"
      }
    },
    {
      "cell_type": "markdown",
      "source": [
        "based on the above insightes EVA Air can offer loyalty programs or incentives for frequent flyers to encourage repeat business and enhance customer loyalty."
      ],
      "metadata": {
        "id": "_WtzZ_hCYuh4"
      }
    },
    {
      "cell_type": "markdown",
      "source": [
        "#### Chart - 8: Distribution of overall rating"
      ],
      "metadata": {
        "id": "PIIx-8_IphqN"
      }
    },
    {
      "cell_type": "code",
      "source": [
        "# Chart - 7 visualization\n",
        "sns.histplot(df['overall_rating'], kde = True,bins =5,color='#4CBB17')\n",
        "plt.title('Distribution of overall rating')\n",
        "plt.show()"
      ],
      "metadata": {
        "id": "lqAIGUfyphqO"
      },
      "execution_count": null,
      "outputs": []
    },
    {
      "cell_type": "markdown",
      "source": [
        "##### 1. Why did you pick the specific chart?"
      ],
      "metadata": {
        "id": "t27r6nlMphqO"
      }
    },
    {
      "cell_type": "markdown",
      "source": [
        "we chose Histogram for distribution of Overall rating."
      ],
      "metadata": {
        "id": "iv6ro40sphqO"
      }
    },
    {
      "cell_type": "markdown",
      "source": [
        "##### 2. What is/are the insight(s) found from the chart?"
      ],
      "metadata": {
        "id": "r2jJGEOYphqO"
      }
    },
    {
      "cell_type": "markdown",
      "source": [
        "we can conclude that most people have rated between either 1-2 or 8-10\n",
        "it shows that passenger have either best or worst experience with airline."
      ],
      "metadata": {
        "id": "Po6ZPi4hphqO"
      }
    },
    {
      "cell_type": "markdown",
      "source": [
        "##### 3. Will the gained insights help creating a positive business impact?\n",
        "Are there any insights that lead to negative growth? Justify with specific reason."
      ],
      "metadata": {
        "id": "b0JNsNcRphqO"
      }
    },
    {
      "cell_type": "markdown",
      "source": [
        "Based on above insightes Airlines can focus on addressing the aspects that lead to extreme negative experiences, such as poor customer service, flight delays, or uncomfortable seating, to reduce the number of low ratings and engaging with customers who have provided extreme ratings (either low or high) can provide valuable feedback for improvement and allow airlines to address specific pain points or areas of excellence."
      ],
      "metadata": {
        "id": "xvSq8iUTphqO"
      }
    },
    {
      "cell_type": "markdown",
      "source": [
        "#### Chart - 9: Cabin Class Recommendation based on service ratings"
      ],
      "metadata": {
        "id": "BZR9WyysphqO"
      }
    },
    {
      "cell_type": "code",
      "source": [
        "plt.figure(figsize=(15,5))\n",
        "sns.boxplot(x=df['cabin'], y=df['cabin_service'], hue = df['recommended'])\n",
        "plt.legend(loc='upper right')"
      ],
      "metadata": {
        "id": "EyhmlE41b9K2"
      },
      "execution_count": null,
      "outputs": []
    },
    {
      "cell_type": "markdown",
      "source": [
        "##### 1. Why did you pick the specific chart?"
      ],
      "metadata": {
        "id": "jj7wYXLtphqO"
      }
    },
    {
      "cell_type": "markdown",
      "source": [
        "we pick this type of Boxplot to show rating comparison between diffrent cabin classes."
      ],
      "metadata": {
        "id": "Ob8u6rCTphqO"
      }
    },
    {
      "cell_type": "markdown",
      "source": [
        "##### 2. What is/are the insight(s) found from the chart?"
      ],
      "metadata": {
        "id": "eZrbJ2SmphqO"
      }
    },
    {
      "cell_type": "markdown",
      "source": [
        "we can see for every cabin class if the service rating is more then 3 then passenger is more likely to recommend that airline to others."
      ],
      "metadata": {
        "id": "mZtgC_hjphqO"
      }
    },
    {
      "cell_type": "markdown",
      "source": [
        "##### 3. Will the gained insights help creating a positive business impact?\n",
        "Are there any insights that lead to negative growth? Justify with specific reason."
      ],
      "metadata": {
        "id": "rFu4xreNphqO"
      }
    },
    {
      "cell_type": "markdown",
      "source": [
        "By focusing on enhancing service quality across all cabin classes to ensure ratings exceed 3, airlines can improve overall customer satisfaction, leading to positive recommendations and repeat business\n",
        "\n",
        "negative-impact from insights:\n",
        "If service ratings for any cabin class consistently fall below 3, it could lead to negative word-of-mouth, lower customer satisfaction, and a decline in recommendations, which could result in a loss of customers and revenue."
      ],
      "metadata": {
        "id": "ey_0qi68phqO"
      }
    },
    {
      "cell_type": "code",
      "source": [
        "import pandas as pd\n",
        "import matplotlib.pyplot as plt\n",
        "\n",
        "# Assuming 'df' is your DataFrame containing the dataset\n",
        "# and 'date_flown' is the column with the date of travel\n",
        "# and 'seat_comfort' is the column with the seat comfort ratings (1-5)\n",
        "\n",
        "# Convert 'date_flown' to datetime format\n",
        "df['departure_date'] = pd.to_datetime(df['departure_date'])\n",
        "\n",
        "# Calculate the average seat comfort rating for each date\n",
        "avg_seat_comfort = df.groupby('departure_date')['seat_comfort'].mean()\n",
        "\n",
        "# Plotting the average seat comfort rating over time\n",
        "plt.figure(figsize=(12, 5))\n",
        "plt.plot(avg_seat_comfort.index, avg_seat_comfort.values, marker='o', linestyle='-')\n",
        "plt.xlabel('Date')\n",
        "plt.ylabel('Average Seat Comfort Rating')\n",
        "plt.title('Average Seat Comfort Rating Over Time')\n",
        "plt.xticks(rotation=45)\n",
        "plt.grid(True)\n",
        "plt.show()\n"
      ],
      "metadata": {
        "id": "G12GsDM6Ph-J"
      },
      "execution_count": null,
      "outputs": []
    },
    {
      "cell_type": "markdown",
      "source": [
        "#### Chart - 10 - Number of reviews over months"
      ],
      "metadata": {
        "id": "YJ55k-q6phqO"
      }
    },
    {
      "cell_type": "code",
      "source": [
        "# Chart - 9 visualization code\n",
        "\n",
        "plt.figure(figsize= (14,6))\n",
        "plt.title('Number of reviews over months')\n",
        "df['month_name'] = df['review_date'].dt.strftime('%B')\n",
        "df['month'] = df['review_date'].dt.month\n",
        "df2 = df[['month_name','month']].value_counts().reset_index().sort_values(by = 'month')\n",
        "df2.rename(columns={0:'count'},inplace = True)\n",
        "ax = sns.barplot(x = df2['month_name'], y = df2['count'],palette = 'Dark2')\n",
        "for num in ax.containers:\n",
        "  ax.bar_label(num)\n"
      ],
      "metadata": {
        "id": "B2aS4O1ophqO"
      },
      "execution_count": null,
      "outputs": []
    },
    {
      "cell_type": "markdown",
      "source": [
        "##### 1. Why did you pick the specific chart?"
      ],
      "metadata": {
        "id": "gCFgpxoyphqP"
      }
    },
    {
      "cell_type": "markdown",
      "source": [
        "Here we are plotting in which month how many reviews are submitting so with the help of this we can check is there any pattern or relation of number of reviews with the month so the best suited chart is a bar chart."
      ],
      "metadata": {
        "id": "TVxDimi2phqP"
      }
    },
    {
      "cell_type": "markdown",
      "source": [
        "##### 2. What is/are the insight(s) found from the chart?"
      ],
      "metadata": {
        "id": "OVtJsKN_phqQ"
      }
    },
    {
      "cell_type": "markdown",
      "source": [
        "We can analyze from this chart that january month is having a large number of reviews as compared to others follwed by july and august while in the month of may we have the least may be january is a holiday or vacation month so more number of travellers are there so reviews is also there or the staff is not properly managing the services due to this reviews are more because passenger traffic is more."
      ],
      "metadata": {
        "id": "ngGi97qjphqQ"
      }
    },
    {
      "cell_type": "markdown",
      "source": [
        "##### 3. Will the gained insights help creating a positive business impact?\n",
        "Are there any insights that lead to negative growth? Justify with specific reason."
      ],
      "metadata": {
        "id": "lssrdh5qphqQ"
      }
    },
    {
      "cell_type": "markdown",
      "source": [
        "For holiday months if we are having more passenger traffic so we should employ the temporary staff to not spoil our services and management if the traffic is the reason."
      ],
      "metadata": {
        "id": "tBpY5ekJphqQ"
      }
    },
    {
      "cell_type": "markdown",
      "source": [
        "#### Chart - 11 - Overall rating vs cabin type"
      ],
      "metadata": {
        "id": "U2RJ9gkRphqQ"
      }
    },
    {
      "cell_type": "code",
      "source": [
        "#Cabin type and overall service ratings (out of 10)\n",
        "plt.figure(figsize=(10,5))\n",
        "plt.title('Overall rating vs cabin type')\n",
        "sns.barplot(x = df.cabin, y = df.overall_rating, hue = df['recommended'], palette= ['#00e500','red'])"
      ],
      "metadata": {
        "id": "sJE8xwUmfCz-"
      },
      "execution_count": null,
      "outputs": []
    },
    {
      "cell_type": "markdown",
      "source": [
        "##### 1. Why did you pick the specific chart?"
      ],
      "metadata": {
        "id": "1M8mcRywphqQ"
      }
    },
    {
      "cell_type": "markdown",
      "source": [
        "Since we are plotting our categorical value against discrete numerical value so best suited chart is a side bar chart."
      ],
      "metadata": {
        "id": "8agQvks0phqQ"
      }
    },
    {
      "cell_type": "markdown",
      "source": [
        "##### 2. What is/are the insight(s) found from the chart?"
      ],
      "metadata": {
        "id": "tgIPom80phqQ"
      }
    },
    {
      "cell_type": "markdown",
      "source": [
        "We can clearly see from this that almost in all cabin type we have overall rating more than 8 and the customer recommend the airline to others while for no we have almost 2 rating overall in economy while 3 for rest of all, so there is no much difference between cabin type if we see recommend yes/no ."
      ],
      "metadata": {
        "id": "Qp13pnNzphqQ"
      }
    },
    {
      "cell_type": "markdown",
      "source": [
        "##### 3. Will the gained insights help creating a positive business impact?\n",
        "Are there any insights that lead to negative growth? Justify with specific reason."
      ],
      "metadata": {
        "id": "fMPGVGGz1Fto"
      }
    },
    {
      "cell_type": "markdown",
      "source": [
        "We can say from above insights that if a person give overall rating more than 8 then its 99% sure that he is gonna recommend the airline to others by the help of rating we can request our customer to share their opinions on airline service on some platform for recommendation, while if person is not satisfied we will try to resolve their issue with best possible solution."
      ],
      "metadata": {
        "id": "qWCQbLsI1Gt5"
      }
    },
    {
      "cell_type": "markdown",
      "source": [
        "#### Chart - 12 - Correlation Heatmap"
      ],
      "metadata": {
        "id": "NC_X3p0fY2L0"
      }
    },
    {
      "cell_type": "code",
      "source": [
        "# Correlation Heatmap visualization code\n",
        "plt.figure(figsize=(8,5))\n",
        "plt.title('Correlation Heatmap')\n",
        "sns.heatmap(df.corr(), annot = True, fmt='.2f', annot_kws={'size': 10},  vmax=1, square=True,cmap=\"rocket\")"
      ],
      "metadata": {
        "id": "xyC9zolEZNRQ"
      },
      "execution_count": null,
      "outputs": []
    },
    {
      "cell_type": "markdown",
      "source": [
        "##### 1. Why did you pick the specific chart?"
      ],
      "metadata": {
        "id": "UV0SzAkaZNRQ"
      }
    },
    {
      "cell_type": "markdown",
      "source": [
        "This particular graph is the most powerful visualisation as it depicts the relationship of all the columns with each other and one another too."
      ],
      "metadata": {
        "id": "DVPuT8LYZNRQ"
      }
    },
    {
      "cell_type": "markdown",
      "source": [
        "##### 2. What is/are the insight(s) found from the chart?"
      ],
      "metadata": {
        "id": "YPEH6qLeZNRQ"
      }
    },
    {
      "cell_type": "markdown",
      "source": [
        "Here on the graph the positive values tell us about that that particular variable is directly proportional to other one corresponding to it , the negative value indicates that the variable is indirectly proportional to corresponding varibale and larger the magnitude , more is the dependency. Also 1 indicates that if you were looking at a heatmap of a variable like value_for_money\" plotted on both axes, and you saw a \"1\" in a cell, it would mean that when the minimum nights is high on the X-axis, it's also high on the Y-axis. When it's low on the X-axis, it's low on the Y-axis, and the relationship between these two instances of value_for_money is very strong and positive."
      ],
      "metadata": {
        "id": "bfSqtnDqZNRR"
      }
    },
    {
      "cell_type": "markdown",
      "source": [
        "#### Chart - 13 - Pair Plot"
      ],
      "metadata": {
        "id": "q29F0dvdveiT"
      }
    },
    {
      "cell_type": "code",
      "source": [
        "# Pair Plot visualization code\n",
        "column_name = [ 'seat_comfort','value_for_money','cabin_service','ground_service']\n",
        "pairplot_data = df[column_name]\n",
        "chart15=sns.pairplot(pairplot_data,kind = 'reg')\n",
        "plt.show()"
      ],
      "metadata": {
        "id": "o58-TEIhveiU"
      },
      "execution_count": null,
      "outputs": []
    },
    {
      "cell_type": "markdown",
      "source": [
        "##### 1. Why did you pick the specific chart?"
      ],
      "metadata": {
        "id": "EXh0U9oCveiU"
      }
    },
    {
      "cell_type": "markdown",
      "source": [
        "Here we wanted to have a pairwise visualisation of all the columns in the dataset , hence used pairplot."
      ],
      "metadata": {
        "id": "eMmPjTByveiU"
      }
    },
    {
      "cell_type": "markdown",
      "source": [
        "##### 2. What is/are the insight(s) found from the chart?"
      ],
      "metadata": {
        "id": "22aHeOlLveiV"
      }
    },
    {
      "cell_type": "markdown",
      "source": [
        "Since we have a discrete type of dataset so the distribution is showing here is not so perfect but by this we can see a positive relationship between all rating related columns."
      ],
      "metadata": {
        "id": "uPQ8RGwHveiV"
      }
    },
    {
      "cell_type": "markdown",
      "source": [
        "# ***5. Hypothesis Testing***"
      ],
      "metadata": {
        "id": "g-ATYxFrGrvw"
      }
    },
    {
      "cell_type": "markdown",
      "source": [
        "### Based on your chart experiments, define three hypothetical statements from the dataset. In the next three questions, perform hypothesis testing to obtain final conclusion about the statements through your code and statistical testing."
      ],
      "metadata": {
        "id": "Yfr_Vlr8HBkt"
      }
    },
    {
      "cell_type": "markdown",
      "source": [
        "Answer Here."
      ],
      "metadata": {
        "id": "-7MS06SUHkB-"
      }
    },
    {
      "cell_type": "markdown",
      "source": [
        "### Hypothetical Statement - 1"
      ],
      "metadata": {
        "id": "8yEUt7NnHlrM"
      }
    },
    {
      "cell_type": "markdown",
      "source": [
        "#### 1. State Your research hypothesis as a null hypothesis and alternate hypothesis."
      ],
      "metadata": {
        "id": "tEA2Xm5dHt1r"
      }
    },
    {
      "cell_type": "markdown",
      "source": [
        "* Null Hypothesis (H0): The overall ratings for two specific airlines are equal.\n",
        "\n",
        "\n",
        "* Alternative Hypothesis (H1): The overall ratings for two specific airlines are not equal."
      ],
      "metadata": {
        "id": "HI9ZP0laH0D-"
      }
    },
    {
      "cell_type": "markdown",
      "source": [
        "#### 2. Perform an appropriate statistical test."
      ],
      "metadata": {
        "id": "I79__PHVH19G"
      }
    },
    {
      "cell_type": "code",
      "source": [
        "# Perform Statistical Test to obtain P-Value\n",
        "\n",
        "# Calculate the means and standard deviations of the two halves\n",
        "mean1 = (df[df['airline']=='Qatar Airways']['overall_rating']).mean()\n",
        "mean2 = (df[df['airline']=='EVA Air']['overall_rating']).mean()\n",
        "std1 = (df[df['airline']=='Qatar Airways']['overall_rating']).std()\n",
        "std2 = (df[df['airline']=='EVA Air']['overall_rating']).std()\n",
        "\n",
        "# Calculate the sample sizes\n",
        "n1 = (df[df['airline']=='Qatar Airways']['overall_rating']).count()\n",
        "n2 = (df[df['airline']=='EVA Air']['overall_rating']).count()\n",
        "\n",
        "#Calculate the standard error for each airline\n",
        "se1 = std1 / np.sqrt(n1)\n",
        "se2 = std2 / np.sqrt(n2)\n",
        "\n",
        "# Calculate the standard error of the difference between means\n",
        "standard_error = np.sqrt(se1**2 + se2**2)\n",
        "\n",
        "# Calculate the t_test\n",
        "t_stat = (mean1 - mean2) / standard_error\n",
        "\n",
        "#Significance level\n",
        "alpha = 0.05\n",
        "\n",
        "#Degree of freedom\n",
        "dodf = n1 + n2 - 2\n",
        "\n",
        "#calculating probability point function\n",
        "cv = stats.t.ppf(1.0 - alpha, dodf)\n",
        "\n",
        "# Calculate the p-value (two-tailed test)\n",
        "p_value = (1 - stats.t.cdf(abs(t_stat), dodf)) * 2\n",
        "\n",
        "# Set the significance level\n",
        "alpha = 0.05\n",
        "\n",
        "print('The p value for 0.05 significance level is {:.5f}'.format(p_value))\n",
        "\n",
        "# Compare the p-value with the significance level\n",
        "if p_value < alpha:\n",
        "    print(\"Reject the null hypothesis. There is a significant difference in means.\")\n",
        "else:\n",
        "    print(\"Fail to reject the null hypothesis. There is no significant difference in means.\")"
      ],
      "metadata": {
        "id": "oZrfquKtyian"
      },
      "execution_count": null,
      "outputs": []
    },
    {
      "cell_type": "markdown",
      "source": [
        "##### Which statistical test have you done to obtain P-Value?"
      ],
      "metadata": {
        "id": "Ou-I18pAyIpj"
      }
    },
    {
      "cell_type": "markdown",
      "source": [
        "We performed T-Test for this hypothesis testing to obtain P-value."
      ],
      "metadata": {
        "id": "s2U0kk00ygSB"
      }
    },
    {
      "cell_type": "markdown",
      "source": [
        "##### Why did you choose the specific statistical test?"
      ],
      "metadata": {
        "id": "fF3858GYyt-u"
      }
    },
    {
      "cell_type": "markdown",
      "source": [
        " We have a sample dataset and we are making inference about population and our population parameters are not known to us and to compare the overall ratings of the two selected airlines."
      ],
      "metadata": {
        "id": "HO4K0gP5y3B4"
      }
    },
    {
      "cell_type": "markdown",
      "source": [
        "### Hypothetical Statement - 2"
      ],
      "metadata": {
        "id": "4_0_7-oCpUZd"
      }
    },
    {
      "cell_type": "markdown",
      "source": [
        "#### 1. State Your research hypothesis as a null hypothesis and alternate hypothesis."
      ],
      "metadata": {
        "id": "hwyV_J3ipUZe"
      }
    },
    {
      "cell_type": "markdown",
      "source": [
        "* Null Hypothesis (H0): There is no association between the traveller type and the likelihood of recommending the airline.\n",
        "\n",
        "\n",
        "* Alternative Hypothesis (H1): There is an association between the traveller type and the likelihood of recommending the airline."
      ],
      "metadata": {
        "id": "FnpLGJ-4pUZe"
      }
    },
    {
      "cell_type": "markdown",
      "source": [
        "#### 2. Perform an appropriate statistical test."
      ],
      "metadata": {
        "id": "3yB-zSqbpUZe"
      }
    },
    {
      "cell_type": "code",
      "source": [
        "# Perform Statistical Test to obtain P-Value\n",
        "# Create a contingency table\n",
        "contingency_table = pd.crosstab(df['traveller_type'], df['recommended'])\n",
        "\n",
        "# Perform chi-square test\n",
        "chi2, p, dof, expected = chi2_contingency(contingency_table)\n",
        "\n",
        "# Output the results\n",
        "print(f'Chi-square statistic: {chi2}')\n",
        "print(f'P-value: {p}')\n",
        "print(f'Degrees of freedom: {dof}')\n",
        "\n",
        "\n",
        "# Compare the p-value with the significance level\n",
        "if p_value < alpha:\n",
        "    print(\"Reject the null hypothesis. There is an association between the traveller type and the likelihood of recommending the airline.\")\n",
        "else:\n",
        "    print(\"Fail to reject the null hypothesis. There is no association between the traveller type and the likelihood of recommending the airline.\")"
      ],
      "metadata": {
        "id": "sWxdNTXNpUZe"
      },
      "execution_count": null,
      "outputs": []
    },
    {
      "cell_type": "code",
      "source": [
        "df.head()"
      ],
      "metadata": {
        "id": "FW0psYfrG7gW"
      },
      "execution_count": null,
      "outputs": []
    },
    {
      "cell_type": "markdown",
      "source": [
        "##### Which statistical test have you done to obtain P-Value?"
      ],
      "metadata": {
        "id": "dEUvejAfpUZe"
      }
    },
    {
      "cell_type": "markdown",
      "source": [
        "We performed Chi-square Test for this hypothesis testing to obtain P-value."
      ],
      "metadata": {
        "id": "oLDrPz7HpUZf"
      }
    },
    {
      "cell_type": "markdown",
      "source": [
        "##### Why did you choose the specific statistical test?"
      ],
      "metadata": {
        "id": "Fd15vwWVpUZf"
      }
    },
    {
      "cell_type": "markdown",
      "source": [
        "A chi-square test of independence can be used to assess whether there is a significant relationship between the traveller type and the recommended status."
      ],
      "metadata": {
        "id": "4xOGYyiBpUZf"
      }
    },
    {
      "cell_type": "markdown",
      "source": [
        "### Hypothetical Statement - 3"
      ],
      "metadata": {
        "id": "bn_IUdTipZyH"
      }
    },
    {
      "cell_type": "markdown",
      "source": [
        "#### 1. State Your research hypothesis as a null hypothesis and alternate hypothesis."
      ],
      "metadata": {
        "id": "49K5P_iCpZyH"
      }
    },
    {
      "cell_type": "markdown",
      "source": [
        "* Null Hypothesis (H0): The seat comfort ratings are the same across different cabin classes.\n",
        "\n",
        "\n",
        "* Alternative Hypothesis (H1): There is a significant difference in seat comfort ratings among different cabin classes."
      ],
      "metadata": {
        "id": "7gWI5rT9pZyH"
      }
    },
    {
      "cell_type": "markdown",
      "source": [
        "#### 2. Perform an appropriate statistical test."
      ],
      "metadata": {
        "id": "Nff-vKELpZyI"
      }
    },
    {
      "cell_type": "code",
      "source": [
        "# Perform Statistical Test to obtain P-Value\n",
        "# Perform one-way ANOVA\n",
        "f_statistic, p_value = f_oneway(df['seat_comfort'][df['cabin'] == 'First Class'],\n",
        "                                df['seat_comfort'][df['cabin'] == 'Business Class'],\n",
        "                                df['seat_comfort'][df['cabin'] == 'Premium Economy'],\n",
        "                                df['seat_comfort'][df['cabin'] == 'Economy Class'])\n",
        "\n",
        "# Set significance level (alpha)\n",
        "alpha = 0.05\n",
        "\n",
        "\n",
        "print(\"\\nResults:\")\n",
        "print(f\"F-statistic: {f_statistic}\")\n",
        "print(f\"P-value: \",p_value)\n",
        "\n",
        "# Check for statistical significance\n",
        "if p_value < alpha:\n",
        "    print(\"\\nResult: Reject the null hypothesis. There is a significant difference in seat comfort ratings.\")\n",
        "else:\n",
        "    print(\"\\nResult: Fail to reject the null hypothesis. No significant difference in seat comfort ratings.\")"
      ],
      "metadata": {
        "id": "s6AnJQjtpZyI"
      },
      "execution_count": null,
      "outputs": []
    },
    {
      "cell_type": "markdown",
      "source": [
        "##### Which statistical test have you done to obtain P-Value?"
      ],
      "metadata": {
        "id": "kLW572S8pZyI"
      }
    },
    {
      "cell_type": "markdown",
      "source": [
        "We performed One-way ANOVA Test for this hypothesis testing to obtain P-value."
      ],
      "metadata": {
        "id": "ytWJ8v15pZyI"
      }
    },
    {
      "cell_type": "markdown",
      "source": [
        "##### Why did you choose the specific statistical test?"
      ],
      "metadata": {
        "id": "dWbDXHzopZyI"
      }
    },
    {
      "cell_type": "markdown",
      "source": [
        "A one way ANOVA test is used to compare the means of seat comfort ratings in different cabin classes."
      ],
      "metadata": {
        "id": "M99G98V6pZyI"
      }
    },
    {
      "cell_type": "markdown",
      "source": [
        "# ***6. Feature Engineering & Data Pre-processing***"
      ],
      "metadata": {
        "id": "yLjJCtPM0KBk"
      }
    },
    {
      "cell_type": "markdown",
      "source": [
        "### 1. Handling Missing Values"
      ],
      "metadata": {
        "id": "xiyOF9F70UgQ"
      }
    },
    {
      "cell_type": "markdown",
      "source": [
        "We have already handled the missing values in exploratory data analysis."
      ],
      "metadata": {
        "id": "JYh-7YsZ5qmm"
      }
    },
    {
      "cell_type": "markdown",
      "source": [
        "#### What all missing value imputation techniques have you used and why did you use those techniques?"
      ],
      "metadata": {
        "id": "7wuGOrhz0itI"
      }
    },
    {
      "cell_type": "markdown",
      "source": [
        "### 2. Handling Outliers"
      ],
      "metadata": {
        "id": "id1riN9m0vUs"
      }
    },
    {
      "cell_type": "markdown",
      "source": [
        "##### What all outlier treatment techniques have you used and why did you use those techniques?"
      ],
      "metadata": {
        "id": "578E2V7j08f6"
      }
    },
    {
      "cell_type": "markdown",
      "source": [
        "The dataset had no outliers so there was no need of handling as such."
      ],
      "metadata": {
        "id": "uGZz5OrT1HH-"
      }
    },
    {
      "cell_type": "markdown",
      "source": [
        "### 3. Categorical Encoding"
      ],
      "metadata": {
        "id": "89xtkJwZ18nB"
      }
    },
    {
      "cell_type": "code",
      "source": [
        "# Encode your categorical columns\n",
        "label_encode = LabelEncoder()\n",
        "df['recommended'] = label_encode.fit_transform(df['recommended'])"
      ],
      "metadata": {
        "id": "21JmIYMG2hEo"
      },
      "execution_count": null,
      "outputs": []
    },
    {
      "cell_type": "code",
      "source": [
        "df['cabin'].unique()"
      ],
      "metadata": {
        "id": "8cMQadi1FUQ7"
      },
      "execution_count": null,
      "outputs": []
    },
    {
      "cell_type": "code",
      "source": [
        "\n",
        "ordinal_encoder = ce.OrdinalEncoder(mapping=[{'col': 'cabin', 'mapping': {'Economy Class': 1, 'Business Class': 3,'Premium Economy' : 2,'First Class' :4}}])\n",
        "df['cabin']= ordinal_encoder.fit_transform(df['cabin'])"
      ],
      "metadata": {
        "id": "Bgyqffmf3ZDx"
      },
      "execution_count": null,
      "outputs": []
    },
    {
      "cell_type": "code",
      "source": [
        "one_hot_encoder = ce.OneHotEncoder(cols=['traveller_type'])\n",
        "df = one_hot_encoder.fit_transform(df)\n"
      ],
      "metadata": {
        "id": "SnE7w1W53FvO"
      },
      "execution_count": null,
      "outputs": []
    },
    {
      "cell_type": "markdown",
      "source": [],
      "metadata": {
        "id": "yo6TR0gpYSLF"
      }
    },
    {
      "cell_type": "markdown",
      "source": [
        "#### What all categorical encoding techniques have you used & why did you use those techniques?"
      ],
      "metadata": {
        "id": "67NQN5KX2AMe"
      }
    },
    {
      "cell_type": "markdown",
      "source": [
        "As we can not give categorical values in machine learning model so we need to encode them with numerical values . Wr have use different techniques of encoding for different columns\n",
        "\n",
        "\n",
        "For the **\"Traveller_Type\"** column, which appears to represent categorical data with different types of travelers (e.g., Solo Leisure), it's appropriate to use one-hot encoding. One-hot encoding is commonly used for categorical variables with multiple levels, where each level is treated as a distinct category.\n",
        "\n",
        "For **\"Cabin\" column** : There is a clear ordinal relationship, where the different cabin classes have a meaningful and consistent order (e.g., Economy < Premium Economy < Business < First Class), then ordinal encoding could be a suitable choice. In this case, each category is assigned a numerical value based on its order.\n",
        "\n",
        "For **\"recommended\"** column : Since we have two categories like \"Yes\" and \"No, we used label encoding. Label encoding involves assigning a numerical label to each unique category. For \"Yes\" and \"No,\" you could encode them as 1 and 0, respectively."
      ],
      "metadata": {
        "id": "UDaue5h32n_G"
      }
    },
    {
      "cell_type": "markdown",
      "source": [
        "### 4. Feature Manipulation & Selection"
      ],
      "metadata": {
        "id": "-oLEiFgy-5Pf"
      }
    },
    {
      "cell_type": "markdown",
      "source": [
        "#### 1. Feature Manipulation"
      ],
      "metadata": {
        "id": "C74aWNz2AliB"
      }
    },
    {
      "cell_type": "markdown",
      "source": [
        "..........."
      ],
      "metadata": {
        "id": "cvAbA9JNVO0F"
      }
    },
    {
      "cell_type": "markdown",
      "source": [
        "#### 2. Feature Selection"
      ],
      "metadata": {
        "id": "2DejudWSA-a0"
      }
    },
    {
      "cell_type": "code",
      "source": [
        "df[['overall_rating','seat_comfort','food_bev','cabin_service','entertainment','ground_service','value_for_money','recommended']].corr()"
      ],
      "metadata": {
        "id": "sD3LEpJdljm_"
      },
      "execution_count": null,
      "outputs": []
    },
    {
      "cell_type": "code",
      "source": [
        "# Manipulate Features to minimize feature correlation and create new features\n",
        "df.drop('overall_rating',axis = 1 ,inplace = True)"
      ],
      "metadata": {
        "id": "h1qC4yhBApWC"
      },
      "execution_count": null,
      "outputs": []
    },
    {
      "cell_type": "code",
      "source": [
        "df.drop(columns = ['review_date','month_name','month','departure_date','airline'],inplace = True)"
      ],
      "metadata": {
        "id": "I77MCGXljoMn"
      },
      "execution_count": null,
      "outputs": []
    },
    {
      "cell_type": "markdown",
      "source": [
        "##### What all feature selection methods have you used  and why?"
      ],
      "metadata": {
        "id": "pEMng2IbBLp7"
      }
    },
    {
      "cell_type": "markdown",
      "source": [
        "Feature selection is the process of choosing a subset of relevant features (variables, predictors) for use in model construction\n",
        "\n",
        "We basically used **filter method** which evaluate the relevance of features based on statistical measures or scores calculated independently of the machine learning algorithm.\n",
        "\n",
        "Here we used **Correlation coefficient** that Measures the linear relationship between two variables. Features with high correlation to the target variable or with other features may be considered redundants and so is the reason we dropped overall_rating column.\n",
        "\n",
        "Columns like **'review_date'** and **'departure_date**' represent date or time-related information, which is not directly interpretable by most machine learning algorithms.\n",
        "\n",
        "Additionally **'month'** and **'month_name'** are the columns that we made for analysis purpose so model do not require to get trained with these so dropping them too.\n",
        "\n",
        "Column **'airline'** is basically the name of the airline which is again not relevant for the model to get trained on."
      ],
      "metadata": {
        "id": "rb2Lh6Z8BgGs"
      }
    },
    {
      "cell_type": "markdown",
      "source": [
        "##### Which all features you found important and why?"
      ],
      "metadata": {
        "id": "rAdphbQ9Bhjc"
      }
    },
    {
      "cell_type": "markdown",
      "source": [
        "Features like"
      ],
      "metadata": {
        "id": "fGgaEstsBnaf"
      }
    },
    {
      "cell_type": "markdown",
      "source": [
        "### 5. Data Transformation"
      ],
      "metadata": {
        "id": "TNVZ9zx19K6k"
      }
    },
    {
      "cell_type": "code",
      "source": [],
      "metadata": {
        "id": "UhsDPJfssRaQ"
      },
      "execution_count": null,
      "outputs": []
    },
    {
      "cell_type": "markdown",
      "source": [
        "#### Do you think that your data needs to be transformed? If yes, which transformation have you used. Explain Why?"
      ],
      "metadata": {
        "id": "nqoHp30x9hH9"
      }
    },
    {
      "cell_type": "code",
      "source": [
        "# Transform Your data"
      ],
      "metadata": {
        "id": "I6quWQ1T9rtH"
      },
      "execution_count": null,
      "outputs": []
    },
    {
      "cell_type": "markdown",
      "source": [
        "### 6. Data Scaling"
      ],
      "metadata": {
        "id": "rMDnDkt2B6du"
      }
    },
    {
      "cell_type": "markdown",
      "source": [
        "\n",
        "Scaling data is used to standardize the range of independent variables or features. It's particularly useful when features have different scales or units of measurement, and here the features are on the same scale so there is no need of scaling."
      ],
      "metadata": {
        "id": "yO6Rx_4hIWtp"
      }
    },
    {
      "cell_type": "markdown",
      "source": [
        "### 7. Dimesionality Reduction"
      ],
      "metadata": {
        "id": "1UUpS68QDMuG"
      }
    },
    {
      "cell_type": "markdown",
      "source": [
        "##### Do you think that dimensionality reduction is needed? Explain Why?"
      ],
      "metadata": {
        "id": "kexQrXU-DjzY"
      }
    },
    {
      "cell_type": "markdown",
      "source": [
        "Answer Here."
      ],
      "metadata": {
        "id": "GGRlBsSGDtTQ"
      }
    },
    {
      "cell_type": "code",
      "source": [
        "# DImensionality Reduction (If needed)\n",
        "pca = PCA()\n",
        "airline_pca = pca.fit_transform(df.iloc[:,:-1])\n",
        "\n",
        "# Convert PCA components to a DataFrame for better readability\n",
        "airline_pca_df = pd.DataFrame(data=airline_pca, columns=[f'PC{i+1}' for i in range(len(df.iloc[:,:-1].columns))])\n",
        "\n",
        "# Display the first few rows of the PCA components\n",
        "airline_pca_df.head()\n"
      ],
      "metadata": {
        "id": "kQfvxBBHDvCa"
      },
      "execution_count": null,
      "outputs": []
    },
    {
      "cell_type": "code",
      "source": [
        "explained_variance = pca.explained_variance_ratio_\n",
        "\n",
        "# Plotting the explained variance\n",
        "plt.figure(figsize=(10, 4))\n",
        "op=sns.barplot(x=range(1, len(explained_variance) + 1), y=explained_variance*100, hue=range(1, len(explained_variance) + 1),palette='colorblind',legend=False)\n",
        "plt.ylabel('Variance Percentage')\n",
        "plt.xlabel('Principal Component')\n",
        "plt.title('PCA Explained Variance Percentage')\n",
        "for i, num in enumerate(explained_variance):\n",
        "    op.text(i, num * 100+1, f'{num*100:.2f}',ha='center')\n",
        "plt.ylim(0 , 90)\n",
        "plt.xlim(-1 , 12)\n",
        "plt.show()\n"
      ],
      "metadata": {
        "id": "rqoNrE4xzTx6"
      },
      "execution_count": null,
      "outputs": []
    },
    {
      "cell_type": "code",
      "source": [
        "pca.explained_variance_ratio_"
      ],
      "metadata": {
        "id": "2rYXT0mnZAaB"
      },
      "execution_count": null,
      "outputs": []
    },
    {
      "cell_type": "code",
      "source": [
        "for i in range(1,len(explained_variance)):\n",
        "  print(f'Sum of percentage of variance of {i} columns',round(sum(explained_variance[0:i]*100),2))"
      ],
      "metadata": {
        "id": "SKWzGAxPfBBL"
      },
      "execution_count": null,
      "outputs": []
    },
    {
      "cell_type": "code",
      "source": [
        "pca_2 = PCA(n_components=6)\n",
        "airline_pca_2 = pca_2.fit_transform(df.iloc[:,:-1])\n",
        "\n",
        "# Shape after reduction\n",
        "print(\"Original Shape:\", df.iloc[:,:-1].shape)\n",
        "print(\"Transformed Shape:\", airline_pca_2.shape)"
      ],
      "metadata": {
        "id": "NOCl_n0KgQ-w"
      },
      "execution_count": null,
      "outputs": []
    },
    {
      "cell_type": "code",
      "source": [
        "airline_pca_2_df = pd.DataFrame(data=airline_pca_2, columns=[f'PC{i+1}' for i in range(len(df.iloc[:,:6].columns))])"
      ],
      "metadata": {
        "id": "PfH6GVwSgvE1"
      },
      "execution_count": null,
      "outputs": []
    },
    {
      "cell_type": "code",
      "source": [
        "airline_pca_2_df.head(3)"
      ],
      "metadata": {
        "id": "3RaXA5qbhZiK"
      },
      "execution_count": null,
      "outputs": []
    },
    {
      "cell_type": "markdown",
      "source": [
        "##### Which dimensionality reduction technique have you used and why? (If dimensionality reduction done on dataset.)"
      ],
      "metadata": {
        "id": "T5CmagL3EC8N"
      }
    },
    {
      "cell_type": "markdown",
      "source": [
        "Answer Here."
      ],
      "metadata": {
        "id": "ZKr75IDuEM7t"
      }
    },
    {
      "cell_type": "markdown",
      "source": [
        "### 8. Data Splitting"
      ],
      "metadata": {
        "id": "BhH2vgX9EjGr"
      }
    },
    {
      "cell_type": "code",
      "source": [
        "# Split your data to train and test. Choose Splitting ratio wisely.\n",
        "x = airline_pca_2_df\n",
        "y = df.iloc[:,-1]"
      ],
      "metadata": {
        "id": "0CTyd2UwEyNM"
      },
      "execution_count": null,
      "outputs": []
    },
    {
      "cell_type": "code",
      "source": [
        "x"
      ],
      "metadata": {
        "id": "laomBFeUiH7v"
      },
      "execution_count": null,
      "outputs": []
    },
    {
      "cell_type": "code",
      "source": [
        "y"
      ],
      "metadata": {
        "id": "tDGY2n_jQyYi"
      },
      "execution_count": null,
      "outputs": []
    },
    {
      "cell_type": "markdown",
      "source": [
        "##### What data splitting ratio have you used and why?"
      ],
      "metadata": {
        "id": "qjKvONjwE8ra"
      }
    },
    {
      "cell_type": "markdown",
      "source": [
        "Answer Here."
      ],
      "metadata": {
        "id": "Y2lJ8cobFDb_"
      }
    },
    {
      "cell_type": "markdown",
      "source": [
        "### 9. Handling Imbalanced Dataset"
      ],
      "metadata": {
        "id": "P1XJ9OREExlT"
      }
    },
    {
      "cell_type": "markdown",
      "source": [
        "##### Do you think the dataset is imbalanced? Explain Why."
      ],
      "metadata": {
        "id": "VFOzZv6IFROw"
      }
    },
    {
      "cell_type": "markdown",
      "source": [
        "Answer Here."
      ],
      "metadata": {
        "id": "GeKDIv7pFgcC"
      }
    },
    {
      "cell_type": "code",
      "source": [
        "# Handling Imbalanced Dataset (If needed)\n",
        "y.value_counts()"
      ],
      "metadata": {
        "id": "nQsRhhZLFiDs"
      },
      "execution_count": null,
      "outputs": []
    },
    {
      "cell_type": "markdown",
      "source": [
        "##### What technique did you use to handle the imbalance dataset and why? (If needed to be balanced)"
      ],
      "metadata": {
        "id": "TIqpNgepFxVj"
      }
    },
    {
      "cell_type": "markdown",
      "source": [
        "Answer Here."
      ],
      "metadata": {
        "id": "qbet1HwdGDTz"
      }
    },
    {
      "cell_type": "markdown",
      "source": [
        "# ***7. ML Model Implementation***"
      ],
      "metadata": {
        "id": "VfCC591jGiD4"
      }
    },
    {
      "cell_type": "code",
      "source": [
        "X_train, X_test, y_train, y_test = train_test_split(x, y, test_size=0.3, random_state=42)"
      ],
      "metadata": {
        "id": "pORmlWO1U3oi"
      },
      "execution_count": null,
      "outputs": []
    },
    {
      "cell_type": "code",
      "source": [
        "print('Shape of X_train',X_train.shape)\n",
        "print('Shape of y_train',y_train.shape)\n",
        "print('Shape of X_test',X_test.shape)\n",
        "print('Shape of y_test',y_test.shape)"
      ],
      "metadata": {
        "id": "2CwcOvcWVaOa"
      },
      "execution_count": null,
      "outputs": []
    },
    {
      "cell_type": "markdown",
      "source": [
        "### ML Model - 1 - Decision Tree"
      ],
      "metadata": {
        "id": "OB4l2ZhMeS1U"
      }
    },
    {
      "cell_type": "code",
      "source": [
        "# ML Model - 1 Implementation\n",
        "\n",
        "model = DecisionTreeClassifier()\n",
        "\n",
        "# Fit the Algorithm\n",
        "model.fit(X_train, y_train)\n",
        "# Predict on the model\n",
        "prediction = model.predict(X_test)"
      ],
      "metadata": {
        "id": "7ebyywQieS1U"
      },
      "execution_count": null,
      "outputs": []
    },
    {
      "cell_type": "code",
      "source": [
        "print(\"Accuracy on test data:\", accuracy_score(y_test, prediction))\n",
        "print(\"Precision on test data:\", precision_score(y_test, prediction))\n",
        "print(\"Recall on test data:\", recall_score(y_test, prediction))\n",
        "print(\"F1_score on test data:\", f1_score(y_test, prediction))"
      ],
      "metadata": {
        "id": "_0DbtdYzV9ga"
      },
      "execution_count": null,
      "outputs": []
    },
    {
      "cell_type": "code",
      "source": [
        "# ML Model - 1 Implementation\n",
        "\n",
        "model1 = DecisionTreeClassifier()\n",
        "\n",
        "# Fit the Algorithm\n",
        "model1.fit(X_train, y_train)\n",
        "# Predict on the model\n",
        "prediction1 = model1.predict(X_train)"
      ],
      "metadata": {
        "id": "707m4F14fgHQ"
      },
      "execution_count": null,
      "outputs": []
    },
    {
      "cell_type": "code",
      "source": [
        "print(\"Accuracy on training data:\", accuracy_score(y_train, prediction1))\n",
        "print(\"Precision on training data:\", precision_score(y_train, prediction1))\n",
        "print(\"Recall on training data:\", recall_score(y_train, prediction1))\n",
        "print(\"F1_score on training data:\", f1_score(y_train, prediction1))"
      ],
      "metadata": {
        "id": "D1_G6X8le-ti"
      },
      "execution_count": null,
      "outputs": []
    },
    {
      "cell_type": "code",
      "source": [
        "cm = confusion_matrix(y_test, prediction)"
      ],
      "metadata": {
        "id": "MQFdkIjUZXdJ"
      },
      "execution_count": null,
      "outputs": []
    },
    {
      "cell_type": "code",
      "source": [
        "cm"
      ],
      "metadata": {
        "id": "fln61uD0Zxbg"
      },
      "execution_count": null,
      "outputs": []
    },
    {
      "cell_type": "code",
      "source": [
        "ax= plt.subplot()\n",
        "labels = ['Recommended', 'Not Recommend']\n",
        "sns.heatmap(cm, annot=True, ax = ax) #annot=True to annotate cells\n",
        "\n",
        "# labels, title and ticks\n",
        "ax.set_xlabel('Predicted labels')\n",
        "ax.set_ylabel('True labels')\n",
        "ax.set_title('Confusion Matrix')\n",
        "ax.xaxis.set_ticklabels(labels)\n",
        "ax.yaxis.set_ticklabels(labels)"
      ],
      "metadata": {
        "id": "dPaudqfzZi5G"
      },
      "execution_count": null,
      "outputs": []
    },
    {
      "cell_type": "markdown",
      "source": [
        "#### 1. Explain the ML Model used and it's performance using Evaluation metric Score Chart."
      ],
      "metadata": {
        "id": "ArJBuiUVfxKd"
      }
    },
    {
      "cell_type": "code",
      "source": [
        "# Visualizing evaluation Metric Score chart"
      ],
      "metadata": {
        "id": "rqD5ZohzfxKe"
      },
      "execution_count": null,
      "outputs": []
    },
    {
      "cell_type": "markdown",
      "source": [
        "#### 2. Cross- Validation & Hyperparameter Tuning"
      ],
      "metadata": {
        "id": "4qY1EAkEfxKe"
      }
    },
    {
      "cell_type": "code",
      "source": [
        "# ML Model - 1 Implementation with hyperparameter optimization techniques (i.e., GridSearch CV, RandomSearch CV, Bayesian Optimization etc.)\n",
        "dt_classifier = DecisionTreeClassifier()\n",
        "\n",
        "param_grid = {\n",
        "    'criterion': ['gini', 'entropy'],\n",
        "    'max_depth': [2, 5, 10, 20, 30, 40],\n",
        "    'min_samples_split': [2, 5, 10],\n",
        "    'min_samples_leaf': [1, 2, 4]\n",
        "}\n",
        "# Fit the Algorithm\n",
        "grid_search = GridSearchCV(dt_classifier, param_grid, cv=5, scoring='f1')\n",
        "grid_search.fit(X_train, y_train)\n",
        "\n",
        "# Predict on the\n",
        "best_params = grid_search.best_params_"
      ],
      "metadata": {
        "id": "Dy61ujd6fxKe"
      },
      "execution_count": null,
      "outputs": []
    },
    {
      "cell_type": "code",
      "source": [
        "best_params"
      ],
      "metadata": {
        "id": "46f21mn_dfxV"
      },
      "execution_count": null,
      "outputs": []
    },
    {
      "cell_type": "code",
      "source": [
        "best_dt_classifier = DecisionTreeClassifier(**best_params)\n",
        "best_dt_classifier.fit(X_train, y_train)\n",
        "prediction2 = best_dt_classifier.predict(X_test)"
      ],
      "metadata": {
        "id": "zTuYTImgdDyp"
      },
      "execution_count": null,
      "outputs": []
    },
    {
      "cell_type": "code",
      "source": [
        "print(\"Accuracy on test data:\", accuracy_score(y_test, prediction2))\n",
        "print(\"Precision on test data:\", precision_score(y_test, prediction2))\n",
        "print(\"Recall on test data:\", recall_score(y_test, prediction2))\n",
        "print(\"F1_score on test data:\", f1_score(y_test, prediction2))"
      ],
      "metadata": {
        "id": "gvA7X4AdinIr"
      },
      "execution_count": null,
      "outputs": []
    },
    {
      "cell_type": "code",
      "source": [
        "best_dt_classifier1 = DecisionTreeClassifier(**best_params)\n",
        "best_dt_classifier1.fit(X_train, y_train)\n",
        "prediction3 = best_dt_classifier1.predict(X_train)"
      ],
      "metadata": {
        "id": "nwnU5BZQkEzk"
      },
      "execution_count": null,
      "outputs": []
    },
    {
      "cell_type": "code",
      "source": [
        "print(\"Accuracy on test data:\", accuracy_score(y_train, prediction3))\n",
        "print(\"Precision on test data:\", precision_score(y_train, prediction3))\n",
        "print(\"Recall on test data:\", recall_score(y_train, prediction3))\n",
        "print(\"F1_score on test data:\", f1_score(y_train, prediction3))"
      ],
      "metadata": {
        "id": "xYuRu6W9kLzl"
      },
      "execution_count": null,
      "outputs": []
    },
    {
      "cell_type": "markdown",
      "source": [
        "##### Which hyperparameter optimization technique have you used and why?"
      ],
      "metadata": {
        "id": "PiV4Ypx8fxKe"
      }
    },
    {
      "cell_type": "markdown",
      "source": [
        "Answer Here."
      ],
      "metadata": {
        "id": "negyGRa7fxKf"
      }
    },
    {
      "cell_type": "markdown",
      "source": [
        "##### Have you seen any improvement? Note down the improvement with updates Evaluation metric Score Chart."
      ],
      "metadata": {
        "id": "TfvqoZmBfxKf"
      }
    },
    {
      "cell_type": "markdown",
      "source": [
        "Answer Here."
      ],
      "metadata": {
        "id": "OaLui8CcfxKf"
      }
    },
    {
      "cell_type": "markdown",
      "source": [
        "### ML Model - 2"
      ],
      "metadata": {
        "id": "dJ2tPlVmpsJ0"
      }
    },
    {
      "cell_type": "code",
      "source": [
        "knn = KNeighborsClassifier()\n",
        "\n",
        "# Train the classifier\n",
        "knn.fit(X_train, y_train)\n",
        "\n",
        "# Make predictions on the test set\n",
        "y_pred_knn = knn.predict(X_test)"
      ],
      "metadata": {
        "id": "6HTVRQgrb5K-"
      },
      "execution_count": null,
      "outputs": []
    },
    {
      "cell_type": "code",
      "source": [
        "print(\"Accuracy on test data:\", accuracy_score(y_test, y_pred_knn))\n",
        "print(\"Precision on test data:\", precision_score(y_test, y_pred_knn))\n",
        "print(\"Recall on test data:\", recall_score(y_test, y_pred_knn))\n",
        "print(\"F1_score on test data:\", f1_score(y_test,y_pred_knn))"
      ],
      "metadata": {
        "id": "J9yw_JDRpzh3"
      },
      "execution_count": null,
      "outputs": []
    },
    {
      "cell_type": "code",
      "source": [
        "knn1 = KNeighborsClassifier()\n",
        "\n",
        "# Train the classifier\n",
        "knn1.fit(X_train, y_train)\n",
        "\n",
        "# Make predictions on the test set\n",
        "y_pred_knn1 = knn1.predict(X_train)"
      ],
      "metadata": {
        "id": "u-Z8BSHep2x1"
      },
      "execution_count": null,
      "outputs": []
    },
    {
      "cell_type": "code",
      "source": [
        "print(\"Accuracy on training data:\", accuracy_score(y_train, y_pred_knn1))\n",
        "print(\"Precision on training data:\", precision_score(y_train, y_pred_knn1))\n",
        "print(\"Recall on training data:\", recall_score(y_train, y_pred_knn1))\n",
        "print(\"F1_score on training data:\", f1_score(y_train,y_pred_knn1))"
      ],
      "metadata": {
        "id": "gFEdEWAap5ti"
      },
      "execution_count": null,
      "outputs": []
    },
    {
      "cell_type": "markdown",
      "source": [
        "#### 1. Explain the ML Model used and it's performance using Evaluation metric Score Chart."
      ],
      "metadata": {
        "id": "JWYfwnehpsJ1"
      }
    },
    {
      "cell_type": "code",
      "source": [],
      "metadata": {
        "id": "yEl-hgQWpsJ1"
      },
      "execution_count": null,
      "outputs": []
    },
    {
      "cell_type": "markdown",
      "source": [
        "#### 2. Cross- Validation & Hyperparameter Tuning"
      ],
      "metadata": {
        "id": "-jK_YjpMpsJ2"
      }
    },
    {
      "cell_type": "code",
      "source": [
        "# ML Model - 1 Implementation with hyperparameter optimization techniques (i.e., GridSearch CV, RandomSearch CV, Bayesian Optimization etc.)\n",
        "\n",
        "# Fit the Algorithm\n",
        "\n",
        "# Predict on the model\n",
        "param_grid = {\n",
        "    'n_neighbors': [3, 5, 7, 9],  # Number of neighbors\n",
        "    'weights': ['uniform', 'distance'],  # Weighting scheme\n",
        "    'metric': ['euclidean', 'manhattan']  # Distance metric\n",
        "}\n",
        "\n",
        "# Instantiate the KNN classifier\n",
        "knn = KNeighborsClassifier()\n",
        "\n",
        "# Instantiate GridSearchCV\n",
        "grid_search1 = GridSearchCV(knn, param_grid, cv=5, scoring='f1')\n",
        "\n",
        "# Fit GridSearchCV to the training data\n",
        "grid_search1.fit(X_train, y_train)\n",
        "\n",
        "# Retrieve the best parameters and best score\n",
        "best_params = grid_search1.best_params_\n",
        "best_score = grid_search1.best_score_\n",
        "\n",
        "print(\"Best Parameters:\", best_params)\n",
        "print(\"Best Score:\", best_score)\n",
        "\n",
        "# Evaluate the best model on the testing set\n",
        "best_model = grid_search1.best_estimator_\n",
        "test_score = best_model.score(X_test, y_test)\n",
        "print(\"Test Set Score:\", test_score)"
      ],
      "metadata": {
        "id": "Dn0EOfS6psJ2"
      },
      "execution_count": null,
      "outputs": []
    },
    {
      "cell_type": "code",
      "source": [
        "cfu = confusion_matrix(y_test, y_pred_knn)\n",
        "ax= plt.subplot()\n",
        "labels = ['Recommended', 'Not Recommend']\n",
        "sns.heatmap(cfu, annot=True, ax = ax) #annot=True to annotate cells\n",
        "\n",
        "# labels, title and ticks\n",
        "ax.set_xlabel('Predicted labels')\n",
        "ax.set_ylabel('True labels')\n",
        "ax.set_title('Confusion Matrix')\n",
        "ax.xaxis.set_ticklabels(labels)\n",
        "ax.yaxis.set_ticklabels(labels)"
      ],
      "metadata": {
        "id": "Esh1IZgQlyJ9"
      },
      "execution_count": null,
      "outputs": []
    },
    {
      "cell_type": "markdown",
      "source": [
        "##### Which hyperparameter optimization technique have you used and why?"
      ],
      "metadata": {
        "id": "HAih1iBOpsJ2"
      }
    },
    {
      "cell_type": "markdown",
      "source": [
        "Answer Here."
      ],
      "metadata": {
        "id": "9kBgjYcdpsJ2"
      }
    },
    {
      "cell_type": "markdown",
      "source": [
        "##### Have you seen any improvement? Note down the improvement with updates Evaluation metric Score Chart."
      ],
      "metadata": {
        "id": "zVGeBEFhpsJ2"
      }
    },
    {
      "cell_type": "markdown",
      "source": [
        "Answer Here."
      ],
      "metadata": {
        "id": "74yRdG6UpsJ3"
      }
    },
    {
      "cell_type": "markdown",
      "source": [
        "#### 3. Explain each evaluation metric's indication towards business and the business impact pf the ML model used."
      ],
      "metadata": {
        "id": "bmKjuQ-FpsJ3"
      }
    },
    {
      "cell_type": "markdown",
      "source": [
        "Answer Here."
      ],
      "metadata": {
        "id": "BDKtOrBQpsJ3"
      }
    },
    {
      "cell_type": "markdown",
      "source": [
        "### ML Model - 3"
      ],
      "metadata": {
        "id": "Fze-IPXLpx6K"
      }
    },
    {
      "cell_type": "code",
      "source": [
        "# ML Model - 3 Implementation\n",
        "\n",
        "# Fit the Algorithm\n",
        "\n",
        "# Predict on the model\n"
      ],
      "metadata": {
        "id": "FFrSXAtrpx6M"
      },
      "execution_count": null,
      "outputs": []
    },
    {
      "cell_type": "markdown",
      "source": [
        "#### 1. Explain the ML Model used and it's performance using Evaluation metric Score Chart."
      ],
      "metadata": {
        "id": "7AN1z2sKpx6M"
      }
    },
    {
      "cell_type": "code",
      "source": [
        "# Visualizing evaluation Metric Score chart"
      ],
      "metadata": {
        "id": "xIY4lxxGpx6M"
      },
      "execution_count": null,
      "outputs": []
    },
    {
      "cell_type": "markdown",
      "source": [
        "#### 2. Cross- Validation & Hyperparameter Tuning"
      ],
      "metadata": {
        "id": "9PIHJqyupx6M"
      }
    },
    {
      "cell_type": "code",
      "source": [
        "# # ML Model - 3 Implementation with hyperparameter optimization techniques (i.e., GridSearch CV, RandomSearch CV, Bayesian Optimization etc.)\n",
        "\n",
        "# # Fit the Algorithm\n",
        "\n",
        "# # Predict on the model\n",
        "# param_grid_rf = {\n",
        "#     'n_estimators': [50,80,100,200,300],\n",
        "#     'max_depth': [1,2,6,7,8,9,10,20,30,40],\n",
        "#     'min_samples_split':[5,10,20,30,40,50,100,150,200],\n",
        "#     'min_samples_leaf': [1,2,8,10,20,40,50]\n",
        "# }\n",
        "\n",
        "# # Create the RandomizedSearchCV object\n",
        "# random_search = RandomizedSearchCV(rf, param_grid_rf,verbose=2, cv=5,random_state= 42, scoring='neg_mean_squared_error')\n",
        "\n",
        "# # Fit the RandomizedSearchCV object to the training data\n",
        "# random_search.fit(x_trans, y_trans)\n",
        "\n",
        "# # Get the best estimator\n",
        "# best_model_rf_rs = random_search.best_estimator_"
      ],
      "metadata": {
        "id": "eSVXuaSKpx6M"
      },
      "execution_count": null,
      "outputs": []
    },
    {
      "cell_type": "markdown",
      "source": [
        "##### Which hyperparameter optimization technique have you used and why?"
      ],
      "metadata": {
        "id": "_-qAgymDpx6N"
      }
    },
    {
      "cell_type": "markdown",
      "source": [
        "Answer Here."
      ],
      "metadata": {
        "id": "lQMffxkwpx6N"
      }
    },
    {
      "cell_type": "markdown",
      "source": [
        "##### Have you seen any improvement? Note down the improvement with updates Evaluation metric Score Chart."
      ],
      "metadata": {
        "id": "Z-hykwinpx6N"
      }
    },
    {
      "cell_type": "markdown",
      "source": [
        "Answer Here."
      ],
      "metadata": {
        "id": "MzVzZC6opx6N"
      }
    },
    {
      "cell_type": "markdown",
      "source": [
        "### 1. Which Evaluation metrics did you consider for a positive business impact and why?"
      ],
      "metadata": {
        "id": "h_CCil-SKHpo"
      }
    },
    {
      "cell_type": "markdown",
      "source": [
        "Answer Here."
      ],
      "metadata": {
        "id": "jHVz9hHDKFms"
      }
    },
    {
      "cell_type": "markdown",
      "source": [
        "### 2. Which ML model did you choose from the above created models as your final prediction model and why?"
      ],
      "metadata": {
        "id": "cBFFvTBNJzUa"
      }
    },
    {
      "cell_type": "markdown",
      "source": [
        "Answer Here."
      ],
      "metadata": {
        "id": "6ksF5Q1LKTVm"
      }
    },
    {
      "cell_type": "markdown",
      "source": [
        "### 3. Explain the model which you have used and the feature importance using any model explainability tool?"
      ],
      "metadata": {
        "id": "HvGl1hHyA_VK"
      }
    },
    {
      "cell_type": "markdown",
      "source": [
        "Answer Here."
      ],
      "metadata": {
        "id": "YnvVTiIxBL-C"
      }
    },
    {
      "cell_type": "markdown",
      "source": [
        "## ***8.*** ***Future Work (Optional)***"
      ],
      "metadata": {
        "id": "EyNgTHvd2WFk"
      }
    },
    {
      "cell_type": "code",
      "source": [
        "from sklearn.linear_model import LogisticRegression"
      ],
      "metadata": {
        "id": "voyE09E1HQRA"
      },
      "execution_count": null,
      "outputs": []
    },
    {
      "cell_type": "code",
      "source": [
        "model = LogisticRegression(max_iter=1000)  # Increase max_iter if needed\n",
        "model.fit(X_train, y_train)\n",
        "# Making predictions on the test set\n",
        "y_pred = model.predict(X_test)\n",
        "\n",
        "# Evaluating the model\n",
        "accuracy = accuracy_score(y_test, y_pred)\n",
        "print(f'Accuracy: {accuracy}')"
      ],
      "metadata": {
        "id": "6o6KDKy1HGYw"
      },
      "execution_count": null,
      "outputs": []
    },
    {
      "cell_type": "code",
      "source": [
        "from sklearn.model_selection import GridSearchCV\n",
        "\n",
        "# Define the hyperparameters to tune\n",
        "param_grid = {\n",
        "    'C': [0.001, 0.01, 0.1, 1, 10, 100],  # Regularization parameter\n",
        "    'max_iter': [100, 200, 300, 400, 500]  # Maximum number of iterations\n",
        "}\n",
        "\n",
        "# Create the GridSearchCV object\n",
        "grid_search = GridSearchCV(LogisticRegression(), param_grid, cv=5, n_jobs=-1)\n",
        "\n",
        "# Assuming 'X_train' and 'y_train' are the training data and labels\n",
        "grid_search.fit(X_train, y_train)\n",
        "\n",
        "# Get the best hyperparameters\n",
        "best_params = grid_search.best_params_\n",
        "print(f'Best hyperparameters: {best_params}')\n",
        "\n",
        "# Use the best model for prediction\n",
        "best_model = grid_search.best_estimator_\n",
        "y_pred = best_model.predict(X_test)\n",
        "\n",
        "# Evaluate the best model\n",
        "accuracy = accuracy_score(y_test, y_pred)\n",
        "print(f'Accuracy: {accuracy}')\n"
      ],
      "metadata": {
        "id": "f0cwSqeHHtng"
      },
      "execution_count": null,
      "outputs": []
    },
    {
      "cell_type": "markdown",
      "source": [
        "### 1. Save the best performing ml model in a pickle file or joblib file format for deployment process.\n"
      ],
      "metadata": {
        "id": "KH5McJBi2d8v"
      }
    },
    {
      "cell_type": "code",
      "source": [
        "# Save the File"
      ],
      "metadata": {
        "id": "bQIANRl32f4J"
      },
      "execution_count": null,
      "outputs": []
    },
    {
      "cell_type": "markdown",
      "source": [
        "### 2. Again Load the saved model file and try to predict unseen data for a sanity check.\n"
      ],
      "metadata": {
        "id": "iW_Lq9qf2h6X"
      }
    },
    {
      "cell_type": "code",
      "source": [
        "# Load the File and predict unseen data."
      ],
      "metadata": {
        "id": "oEXk9ydD2nVC"
      },
      "execution_count": null,
      "outputs": []
    },
    {
      "cell_type": "markdown",
      "source": [
        "### ***Congrats! Your model is successfully created and ready for deployment on a live server for a real user interaction !!!***"
      ],
      "metadata": {
        "id": "-Kee-DAl2viO"
      }
    },
    {
      "cell_type": "markdown",
      "source": [
        "# **Conclusion**"
      ],
      "metadata": {
        "id": "gCX9965dhzqZ"
      }
    },
    {
      "cell_type": "markdown",
      "source": [
        "Write the conclusion here."
      ],
      "metadata": {
        "id": "Fjb1IsQkh3yE"
      }
    },
    {
      "cell_type": "markdown",
      "source": [
        "### ***Hurrah! You have successfully completed your Machine Learning Capstone Project !!!***"
      ],
      "metadata": {
        "id": "gIfDvo9L0UH2"
      }
    }
  ]
}